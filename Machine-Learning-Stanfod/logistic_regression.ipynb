{
 "cells": [
  {
   "cell_type": "code",
   "execution_count": 1,
   "outputs": [],
   "source": [
    "%load_ext autoreload\n",
    "%autoreload 2\n",
    "\n",
    "import numpy as np\n",
    "from numpy import loadtxt\n",
    "from logistic_regression import *\n",
    "import matplotlib.pyplot as plt\n",
    "import scipy.optimize as opt\n",
    "\n",
    "params = {\"ytick.color\" : \"w\",\n",
    "          \"xtick.color\" : \"w\",\n",
    "          \"axes.labelcolor\" : \"w\",\n",
    "          \"axes.edgecolor\" : \"y\",\n",
    "          \"axes.facecolor\" : \"None\",\n",
    "          \"text.color\" : 'w'}\n",
    "plt.rcParams.update(params)"
   ],
   "metadata": {
    "collapsed": false,
    "pycharm": {
     "name": "#%%\n"
    }
   }
  },
  {
   "cell_type": "markdown",
   "source": [
    "# <center><font color=slate>Logistic Regression</font></center>\n",
    "## <center><font color=tomato>1. Logistic Regression</font></center>\n",
    "Suppose that you are the administrator of a university department and you want to determine each applicant's chance of admission based on their results on two exams.\n",
    "You have historical data from previous applicants that you can use as a training set for logistic regression.\n",
    "For each training example, you have the applicant's scores on two exams and the admissions decision."
   ],
   "metadata": {
    "collapsed": false
   }
  },
  {
   "cell_type": "code",
   "execution_count": 2,
   "outputs": [],
   "source": [
    "data = loadtxt(\"data/ex2data1.txt\", delimiter=\",\")\n",
    "X = data[:, :2]; y = data[:, -1]"
   ],
   "metadata": {
    "collapsed": false,
    "pycharm": {
     "name": "#%%\n"
    }
   }
  },
  {
   "cell_type": "code",
   "execution_count": 3,
   "outputs": [
    {
     "data": {
      "text/plain": "<Figure size 432x288 with 1 Axes>",
      "image/png": "[encoded data removed]"
     },
     "metadata": {
      "needs_background": "dark"
     },
     "output_type": "display_data"
    }
   ],
   "source": [
    "plot_scatter(X, y, label_y1='Admitted', label_y2='Not admitted')\n",
    "plt.xlabel('Exam 1 score')\n",
    "plt.ylabel('Exam 2 score')\n",
    "plt.legend();"
   ],
   "metadata": {
    "collapsed": false,
    "pycharm": {
     "name": "#%%\n"
    }
   }
  },
  {
   "cell_type": "markdown",
   "source": [
    "### <font color=lightGreen>1.2 Implementation</font>\n",
    "### 1.2.1 Sigmoid function"
   ],
   "metadata": {
    "collapsed": false
   }
  },
  {
   "cell_type": "markdown",
   "source": [
    "<center>\n",
    "\n",
    "$$h_θ(x) = g(θ^Tx)$$</center>"
   ],
   "metadata": {
    "collapsed": false
   }
  },
  {
   "cell_type": "markdown",
   "source": [
    "where function $g$ is the sigmoid function. The sigmoid function is defined as:\n",
    "<center>\n",
    "\n",
    "$$g(z) = \\frac{1} {1 + e^{-z}}$$</center>"
   ],
   "metadata": {
    "collapsed": false
   }
  },
  {
   "cell_type": "code",
   "execution_count": 4,
   "outputs": [
    {
     "data": {
      "text/plain": "array([0.26894142, 0.5       , 0.73105858])"
     },
     "execution_count": 4,
     "metadata": {},
     "output_type": "execute_result"
    }
   ],
   "source": [
    "z = np.array([-1, 0, 1])\n",
    "sigmoid(z=z)"
   ],
   "metadata": {
    "collapsed": false,
    "pycharm": {
     "name": "#%%\n"
    }
   }
  },
  {
   "cell_type": "markdown",
   "source": [
    "### 1.2.2 Cost function and gradient"
   ],
   "metadata": {
    "collapsed": false,
    "pycharm": {
     "name": "#%% md\n"
    }
   }
  },
  {
   "cell_type": "markdown",
   "source": [
    "\n",
    "Cost function in logistic regression\n",
    "<center>\n",
    "\n",
    "$$J(θ) = \\frac{1}{m}  \\sum_{i=1}^m [-y^{(i)} log(h_θ(x^{(i)})) - (1 - y^{(i)}) log (1 - h_θ(x^{(i)}))]$$\n",
    "</center>"
   ],
   "metadata": {
    "collapsed": false
   }
  },
  {
   "cell_type": "markdown",
   "source": [
    "\n",
    "and the gradient of the cost is a vector of the same length as  where the th element (for $j = 0, 1, .., n$) is defined as follows:\n",
    "<center>\n",
    "\n",
    "$$\\frac {𝜕J(θ)} {𝜕θ_j} = \\frac{1}{m} \\sum_{i=1}^m (h_θ(x^{(i)})-y^{(i)})x^{(i)}_j$$ </center>\n"
   ],
   "metadata": {
    "collapsed": false
   }
  },
  {
   "cell_type": "code",
   "execution_count": 5,
   "outputs": [],
   "source": [
    "m, n = X.shape\n",
    "X = np.hstack((np.ones((m, 1)), X))\n",
    "initial_theta = np.zeros(shape=(n+1))"
   ],
   "metadata": {
    "collapsed": false,
    "pycharm": {
     "name": "#%%\n"
    }
   }
  },
  {
   "cell_type": "code",
   "execution_count": 6,
   "outputs": [
    {
     "name": "stdout",
     "output_type": "stream",
     "text": [
      "Cost at initial theta (zeros): 0.6931\n",
      "Gradient at initial theta (zeros):\n",
      " [ -0.1        -12.00921659 -11.26284221]\n"
     ]
    }
   ],
   "source": [
    "J, grad = cost_function(initial_theta, X, y)\n",
    "print(f'Cost at initial theta (zeros): {J:.4f}')\n",
    "print(f'Gradient at initial theta (zeros):\\n {grad}')\n"
   ],
   "metadata": {
    "collapsed": false,
    "pycharm": {
     "name": "#%%\n"
    }
   }
  },
  {
   "cell_type": "markdown",
   "source": [
    "### 1.2.3 Learning parameters using `fmin_bfgs`\n",
    "\n",
    "Now to find the minimum of this cost function, we will use a scipy built-in function called `minimize`.\n",
    "It will find the best parameters theta for the logistic regression cost function given a fixed dataset (of X and Y values)."
   ],
   "metadata": {
    "collapsed": false
   }
  },
  {
   "cell_type": "markdown",
   "source": [
    "The parameters are:\n",
    "-   A function that, when given the training set and a particular theta,\n",
    "computes the logistic regression cost with respect to theta for the dataset (X,y).\n",
    "=   A similar function that computes gradient\n",
    "-   The initial values of the parameters you are trying to optimize;"
   ],
   "metadata": {
    "collapsed": false
   }
  },
  {
   "cell_type": "markdown",
   "source": [
    "The final theta value will then be used to plot the decision boundary on the training data."
   ],
   "metadata": {
    "collapsed": false
   }
  },
  {
   "cell_type": "code",
   "execution_count": 7,
   "outputs": [
    {
     "name": "stdout",
     "output_type": "stream",
     "text": [
      "Cost at theta found by TNC: 0.2035\n",
      "theta found by TNC:\n",
      " [-25.1613187    0.20623159   0.20147149]\n"
     ]
    }
   ],
   "source": [
    "result = opt.minimize(cost_function, x0=initial_theta, args=(X, y), method=\"TNC\", jac=True)\n",
    "J_opt = result.fun\n",
    "theta_opt = result.x\n",
    "print(f'Cost at theta found by TNC: {J_opt:.4f}')\n",
    "print(f'theta found by TNC:\\n {theta_opt}')"
   ],
   "metadata": {
    "collapsed": false,
    "pycharm": {
     "name": "#%%\n"
    }
   }
  },
  {
   "cell_type": "code",
   "execution_count": 8,
   "outputs": [
    {
     "data": {
      "text/plain": "<Figure size 432x288 with 1 Axes>",
      "image/png": "[encoded data removed]"
     },
     "metadata": {
      "needs_background": "dark"
     },
     "output_type": "display_data"
    }
   ],
   "source": [
    "plot_scatter(X[:, 1:], y, label_y1='Admitted', label_y2='Not admitted')\n",
    "plot_x = np.array([min(X[:, 1]) - 2, max(X[:, 1]) + 2]) # Only need 2 points to define a line, so choose two endpoints\n",
    "plot_y = (-1 / theta_opt[2]) * (theta_opt[1] * plot_x + theta_opt[0]) # Calculate the decision boundary line\n",
    "plt.plot(plot_x, plot_y, label='Decision Boundary', c='w') # Plot, and adjust axes for better viewing\n",
    "plt.xlabel('Exam 1 score')\n",
    "plt.ylabel('Exam 2 score')\n",
    "plt.legend();"
   ],
   "metadata": {
    "collapsed": false,
    "pycharm": {
     "name": "#%%\n"
    }
   }
  },
  {
   "cell_type": "markdown",
   "source": [
    "### 1.2.4 Evaluating logistic regression\n",
    "After learning the parameters, you can use the model to predict whether a particular student will be admitted.\n",
    "For a student with an Exam 1 score of 45 and an Exam 2 score of 85, you should expect to see an admission probability of 0.776.\n"
   ],
   "metadata": {
    "collapsed": false
   }
  },
  {
   "cell_type": "code",
   "execution_count": 9,
   "outputs": [
    {
     "name": "stdout",
     "output_type": "stream",
     "text": [
      "For a student with scores 45 and 85, we predict an admission probability of 77.63%\n"
     ]
    }
   ],
   "source": [
    "prob = sigmoid(np.array([1, 45, 85]) @ theta_opt.reshape(-1,1))\n",
    "print(f'For a student with scores 45 and 85, we predict an admission probability of {(prob[0]*100):.2f}%')"
   ],
   "metadata": {
    "collapsed": false,
    "pycharm": {
     "name": "#%%\n"
    }
   }
  },
  {
   "cell_type": "markdown",
   "source": [
    "Another way to evaluate the quality of the parameters we have found is to see how well the learned model predicts on our training set.\n",
    "The `predict()` function will produce '1' or '0' predictions given a dataset and a learned parameter vector .\n",
    "The code below will proceed to report the training accuracy of your classifier by computing the percentage of examples it got correct.\n"
   ],
   "metadata": {
    "collapsed": false
   }
  },
  {
   "cell_type": "code",
   "execution_count": 10,
   "outputs": [
    {
     "name": "stdout",
     "output_type": "stream",
     "text": [
      "Train Accuracy: 89%\n"
     ]
    }
   ],
   "source": [
    "p = prediction_accuracy(X, y, theta_opt)\n",
    "print(f'Train Accuracy: {p}%')"
   ],
   "metadata": {
    "collapsed": false,
    "pycharm": {
     "name": "#%%\n"
    }
   }
  },
  {
   "cell_type": "markdown",
   "source": [
    "## <center><font color=tomato>2. Regularized logistic regression</font></center>\n",
    "We will implement regularized logistic regression to predict whether microchips from a fabrication plant passes quality assurance (QA).\n",
    "During QA, each microchip goes through various tests to ensure it is functioning correctly.\n",
    "From these two tests, you would like to determine whether the microchips should be accepted or rejected.\n",
    "To help you make the decision, you have a dataset of test results on past microchips,\n",
    "from which you can build a logistic regression model.\n",
    "### <font color=lightGreen>2.1 Visualizing the data</font>\n"
   ],
   "metadata": {
    "collapsed": false
   }
  },
  {
   "cell_type": "code",
   "execution_count": 11,
   "outputs": [],
   "source": [
    "data = loadtxt(\"data/ex2data2.txt\", delimiter=\",\")\n",
    "X = data[:, :2]; y = data[:, -1]"
   ],
   "metadata": {
    "collapsed": false,
    "pycharm": {
     "name": "#%%\n"
    }
   }
  },
  {
   "cell_type": "code",
   "execution_count": 12,
   "outputs": [
    {
     "data": {
      "text/plain": "<Figure size 504x504 with 1 Axes>",
      "image/png": "[encoded data removed]"
     },
     "metadata": {
      "needs_background": "dark"
     },
     "output_type": "display_data"
    }
   ],
   "source": [
    "plt.figure(figsize=(7,7))\n",
    "plot_scatter(X, y, label_y1='y=1', label_y2='y=0')\n",
    "plt.xlabel('Microchip Test 1')\n",
    "plt.ylabel('Microchip Test 2')\n",
    "plt.legend();"
   ],
   "metadata": {
    "collapsed": false,
    "pycharm": {
     "name": "#%%\n"
    }
   }
  },
  {
   "cell_type": "markdown",
   "source": [
    "Figure 3 shows that our dataset cannot be separated into positive and negative examples by a straight-line through the plot.\n",
    "Therefore, a straightforward application of logistic regression will not perform well on this dataset\n",
    "since logistic regression will only be able to find a linear decision boundary.\n",
    "\n",
    "### <font color=lightGreen>2.2 Feature mapping</font>\n",
    "One way to fit the data better is to create more features from each data point. In the provided function mapFeature(),\n",
    "we will map the features into all polynomial terms of  and  up to the sixth power.\n",
    "\n",
    "<center>\n",
    "\n",
    "\\begin{equation*}\n",
    "mapFeature(x) =\n",
    "\\begin{vmatrix}\n",
    "1 \\\\\n",
    "x_1\\\\\n",
    "x_2\\\\\n",
    "x^2_1\\\\\n",
    "x_1x_2\\\\\n",
    "x^2_2\\\\\n",
    "x^3_1\\\\\n",
    "⠇\\\\\n",
    "x_1x^5_2\\\\\n",
    "x^6_2\\\\\n",
    "\\end{vmatrix}\n",
    "\\end{equation*}\n",
    "</center>\n",
    "\n",
    "As a result of this mapping, our vector of two features (the scores on two QA tests) has been transformed into a 28-dimensional vector.\n",
    "\n",
    "A logistic regression classifier trained on this higher-dimension feature vector will have a more complex decision boundary and will appear nonlinear when drawn in our 2-dimensional plot."
   ],
   "metadata": {
    "collapsed": false
   }
  },
  {
   "cell_type": "code",
   "execution_count": 13,
   "outputs": [
    {
     "data": {
      "text/plain": "(118, 2)"
     },
     "execution_count": 13,
     "metadata": {},
     "output_type": "execute_result"
    }
   ],
   "source": [
    "X.shape"
   ],
   "metadata": {
    "collapsed": false,
    "pycharm": {
     "name": "#%%\n"
    }
   }
  },
  {
   "cell_type": "code",
   "execution_count": 14,
   "outputs": [
    {
     "data": {
      "text/plain": "(118, 28)"
     },
     "execution_count": 14,
     "metadata": {},
     "output_type": "execute_result"
    }
   ],
   "source": [
    "degree = 6\n",
    "map_feature_X = map_feature(x1=X[:, 0],x2=X[:, 1], degree=degree)\n",
    "map_feature_X.shape"
   ],
   "metadata": {
    "collapsed": false,
    "pycharm": {
     "name": "#%%\n"
    }
   }
  },
  {
   "cell_type": "markdown",
   "source": [
    "### <font color=lightGreen></font>\n",
    "`cost_function_gradient_reg()` returns the cost and gradient.\n",
    "Regularized cost function in logistic regression:"
   ],
   "metadata": {
    "collapsed": false
   }
  },
  {
   "cell_type": "markdown",
   "source": [
    "<center>\n",
    "\n",
    "$$J(θ) = \\frac{1}{m}  \\sum_{i=1}^m [-y^{(i)} log(h_θ(x^{(i)})) - (1 - y^{(i)}) log (1 - h_θ(x^{(i)}))] + \\frac{λ}{2m}\\sum_{j=1}^nθ^2_{j'}$$\n",
    "</center>"
   ],
   "metadata": {
    "collapsed": false,
    "pycharm": {
     "name": "#%% md\n"
    }
   }
  },
  {
   "cell_type": "markdown",
   "source": [
    "\n",
    "Note that you should not regularize the parameter $θ_0$.\n",
    "The gradient of the cost function is a vector where the $jth$ element is defined as follows:"
   ],
   "metadata": {
    "collapsed": false
   }
  },
  {
   "cell_type": "markdown",
   "source": [
    "\n",
    "<center>\n",
    "\n",
    "$$\\frac {𝜕J(θ)} {𝜕θ_j} = \\frac{1}{m} \\sum_{i=1}^m (h_θ(x^{(i)})-y^{(i)})x^{(i)}_j$$   for j = 0\n",
    "\n",
    "$$\\frac {𝜕J(θ)} {𝜕θ_j} = \\frac{1}{m} \\sum_{i=1}^m (h_θ(x^{(i)})-y^{(i)})x^{(i)}_j + \\frac{λ}{m} θ_j$$   for j>= 1\n",
    "</center>\n"
   ],
   "metadata": {
    "collapsed": false
   }
  },
  {
   "cell_type": "code",
   "execution_count": 15,
   "outputs": [
    {
     "name": "stdout",
     "output_type": "stream",
     "text": [
      "Cost at initial theta (zeros): 0.6931\n"
     ]
    }
   ],
   "source": [
    "initial_theta = np.zeros((map_feature_X.shape[1]))\n",
    "Lambda = 0.1\n",
    "J, grad = cost_function_gradient_reg(initial_theta, map_feature_X, y, Lambda)\n",
    "print(f'Cost at initial theta (zeros): {J:.4f}')"
   ],
   "metadata": {
    "collapsed": false,
    "pycharm": {
     "name": "#%%\n"
    }
   }
  },
  {
   "cell_type": "markdown",
   "source": [
    "### <font color=lightGreen>2.4 Plotting the decision boundary</font>\n",
    "Using the scipy built-in function `fmin_tnc`"
   ],
   "metadata": {
    "collapsed": false
   }
  },
  {
   "cell_type": "code",
   "execution_count": 16,
   "outputs": [
    {
     "name": "stdout",
     "output_type": "stream",
     "text": [
      "CPU times: user 10.9 ms, sys: 1.24 ms, total: 12.1 ms\n",
      "Wall time: 11.1 ms\n"
     ]
    }
   ],
   "source": [
    "%%time\n",
    "result = opt.minimize(cost_function_gradient_reg, x0=initial_theta, args=(map_feature_X, y, Lambda), method=\"BFGS\", jac=True)"
   ],
   "metadata": {
    "collapsed": false,
    "pycharm": {
     "name": "#%%\n"
    }
   }
  },
  {
   "cell_type": "code",
   "execution_count": 17,
   "outputs": [],
   "source": [
    "theta_opt = result.x\n"
   ],
   "metadata": {
    "collapsed": false,
    "pycharm": {
     "name": "#%%\n"
    }
   }
  },
  {
   "cell_type": "code",
   "execution_count": 18,
   "outputs": [
    {
     "data": {
      "text/plain": "<Figure size 576x576 with 1 Axes>",
      "image/png": "[encoded data removed]"
     },
     "metadata": {
      "needs_background": "dark"
     },
     "output_type": "display_data"
    }
   ],
   "source": [
    "def plot_decision_bundary(X, y, theta):\n",
    "    u_vals = np.linspace(-1,1.5,50)\n",
    "    v_vals= np.linspace(-1,1.5,50)\n",
    "    z=np.zeros((len(u_vals),len(v_vals)))\n",
    "    for i in range(len(u_vals)):\n",
    "        for j in range(len(v_vals)):\n",
    "            z[i,j] = map_feature(u_vals[i],v_vals[j],degree) @ theta\n",
    "    plt.figure(figsize=(8, 8))\n",
    "    plt.xlabel('Microchip Test 1')\n",
    "    plt.ylabel('Microchip Test 2')\n",
    "    plot_scatter(X, y, label_y1='y=1', label_y2='y=0')\n",
    "    CS = plt.contour(u_vals,v_vals,z.T,0,colors='w')\n",
    "    plt.clabel(CS, inline=1, fontsize=8, fmt= 'Decision boundary')\n",
    "    CS.collections[0].set_label('Decision boundary')\n",
    "    plt.legend();\n",
    "\n",
    "plot_decision_bundary(X, y, theta_opt)"
   ],
   "metadata": {
    "collapsed": false,
    "pycharm": {
     "name": "#%%\n"
    }
   }
  },
  {
   "cell_type": "code",
   "execution_count": 19,
   "outputs": [
    {
     "name": "stdout",
     "output_type": "stream",
     "text": [
      "Train Accuracy: 98%\n"
     ]
    }
   ],
   "source": [
    "p = prediction_accuracy(map_feature_X, y, theta_opt)\n",
    "print(f'Train Accuracy: {p}%')"
   ],
   "metadata": {
    "collapsed": false,
    "pycharm": {
     "name": "#%%\n"
    }
   }
  },
  {
   "cell_type": "markdown",
   "source": [
    "### Using gradient descent\n"
   ],
   "metadata": {
    "collapsed": false
   }
  },
  {
   "cell_type": "code",
   "execution_count": 20,
   "outputs": [
    {
     "name": "stdout",
     "output_type": "stream",
     "text": [
      "CPU times: user 27.6 ms, sys: 750 µs, total: 28.3 ms\n",
      "Wall time: 27.6 ms\n"
     ]
    }
   ],
   "source": [
    "%%time\n",
    "theta_opt, J = gradient_descent(map_feature_X, y, initial_theta, alpha=1, num_iters=800, Lambda=Lambda)"
   ],
   "metadata": {
    "collapsed": false,
    "pycharm": {
     "name": "#%%\n"
    }
   }
  },
  {
   "cell_type": "code",
   "execution_count": 21,
   "outputs": [
    {
     "name": "stdout",
     "output_type": "stream",
     "text": [
      "Train Accuracy: 89%\n"
     ]
    },
    {
     "data": {
      "text/plain": "<Figure size 576x576 with 1 Axes>",
      "image/png": "[encoded data removed]"
     },
     "metadata": {
      "needs_background": "dark"
     },
     "output_type": "display_data"
    }
   ],
   "source": [
    "plot_decision_bundary(X, y, theta_opt)\n",
    "p = prediction_accuracy(map_feature_X, y, theta_opt)\n",
    "print(f'Train Accuracy: {p}%')"
   ],
   "metadata": {
    "collapsed": false,
    "pycharm": {
     "name": "#%%\n"
    }
   }
  },
  {
   "cell_type": "markdown",
   "source": [
    "### Using normal equation"
   ],
   "metadata": {
    "collapsed": false
   }
  },
  {
   "cell_type": "code",
   "execution_count": 22,
   "outputs": [
    {
     "name": "stdout",
     "output_type": "stream",
     "text": [
      "Train Accuracy: 69%\n"
     ]
    },
    {
     "data": {
      "text/plain": "<Figure size 576x576 with 1 Axes>",
      "image/png": "[encoded data removed]"
     },
     "metadata": {
      "needs_background": "dark"
     },
     "output_type": "display_data"
    }
   ],
   "source": [
    "theta_opt = normal_equation_reg(map_feature_X, y, Lambda=0.05)\n",
    "plot_decision_bundary(X, y, theta_opt)\n",
    "p = prediction_accuracy(map_feature_X, y, theta_opt)\n",
    "print(f'Train Accuracy: {p}%')\n"
   ],
   "metadata": {
    "collapsed": false,
    "pycharm": {
     "name": "#%%\n"
    }
   }
  }
 ],
 "metadata": {
  "kernelspec": {
   "display_name": "Python 3",
   "language": "python",
   "name": "python3"
  },
  "language_info": {
   "codemirror_mode": {
    "name": "ipython",
    "version": 2
   },
   "file_extension": ".py",
   "mimetype": "text/x-python",
   "name": "python",
   "nbconvert_exporter": "python",
   "pygments_lexer": "ipython2",
   "version": "2.7.6"
  }
 },
 "nbformat": 4,
 "nbformat_minor": 0
}