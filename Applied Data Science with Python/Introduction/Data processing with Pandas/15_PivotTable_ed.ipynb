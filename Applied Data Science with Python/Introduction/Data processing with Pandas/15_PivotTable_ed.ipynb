{
 "nbformat": 4,
 "nbformat_minor": 0,
 "metadata": {
  "kernelspec": {
   "display_name": "Python 3",
   "language": "python",
   "name": "python3"
  },
  "language_info": {
   "codemirror_mode": {
    "name": "ipython",
    "version": 3
   },
   "file_extension": ".py",
   "mimetype": "text/x-python",
   "name": "python",
   "nbconvert_exporter": "python",
   "pygments_lexer": "ipython3",
   "version": "3.7.3"
  },
  "colab": {
   "name": "5_PivotTable_ed.ipynb",
   "provenance": []
  }
 },
 "cells": [
  {
   "cell_type": "markdown",
   "metadata": {
    "id": "0v95w0m9T46R",
    "colab_type": "text"
   },
   "source": [
    "### For use in COLAB"
   ]
  },
  {
   "cell_type": "code",
   "metadata": {
    "id": "S-w44r5QT4E7",
    "colab_type": "code",
    "colab": {
     "base_uri": "https://localhost:8080/",
     "height": 52
    },
    "executionInfo": {
     "status": "ok",
     "timestamp": 1600719435531,
     "user_tz": 300,
     "elapsed": 23030,
     "user": {
      "displayName": "JUAN ALEJANDRO GALVIS PACHECO",
      "photoUrl": "https://lh3.googleusercontent.com/a-/AOh14GjkiimzM3aQStztgJqp2zVYmPR9k6BlOYBAZvY70Q=s64",
      "userId": "15927991636568957671"
     }
    },
    "outputId": "8afe1982-a99e-4b3d-af38-fbee33a1143b",
    "pycharm": {
     "is_executing": true
    }
   },
   "source": [
    "try:\n",
    "  from google.colab import drive\n",
    "  drive.mount('/content/drive')\n",
    "  !rm -rf /content/sample_data\n",
    "  %cd /content/drive/My Drive/projects/ML/learningProcess_courses/DataScience/Introduction/week-3\n",
    "except:\n",
    "    %cd Introduction/week-3"
   ],
   "execution_count": null,
   "outputs": []
  },
  {
   "cell_type": "markdown",
   "metadata": {
    "id": "gYJL7kX9T2AK",
    "colab_type": "text"
   },
   "source": [
    "A pivot table is a way of summarizing data in a DataFrame for a particular purpose. It makes heavy use of\n",
    "the aggregation function. A pivot table is itself a DataFrame, where the rows represent one variable that\n",
    "you're interested in, the columns another, and the cell's some aggregate value. A pivot table also tends to\n",
    "includes marginal values as well, which are the sums for each column and row. This allows you to be able to\n",
    "see the relationship between two variables at just a glance."
   ]
  },
  {
   "cell_type": "code",
   "metadata": {
    "id": "Kc2kZLzVT2AL",
    "colab_type": "code",
    "colab": {},
    "executionInfo": {
     "status": "ok",
     "timestamp": 1600719435532,
     "user_tz": 300,
     "elapsed": 23026,
     "user": {
      "displayName": "JUAN ALEJANDRO GALVIS PACHECO",
      "photoUrl": "https://lh3.googleusercontent.com/a-/AOh14GjkiimzM3aQStztgJqp2zVYmPR9k6BlOYBAZvY70Q=s64",
      "userId": "15927991636568957671"
     }
    },
    "pycharm": {
     "is_executing": true
    }
   },
   "source": [
    "# Lets take a look at pivot tables in pandas\n",
    "import pandas as pd\n",
    "import numpy as np"
   ],
   "execution_count": null,
   "outputs": []
  },
  {
   "cell_type": "code",
   "metadata": {
    "id": "C5ytrmYCT2AP",
    "colab_type": "code",
    "colab": {
     "base_uri": "https://localhost:8080/",
     "height": 197
    },
    "executionInfo": {
     "status": "ok",
     "timestamp": 1600719437794,
     "user_tz": 300,
     "elapsed": 25281,
     "user": {
      "displayName": "JUAN ALEJANDRO GALVIS PACHECO",
      "photoUrl": "https://lh3.googleusercontent.com/a-/AOh14GjkiimzM3aQStztgJqp2zVYmPR9k6BlOYBAZvY70Q=s64",
      "userId": "15927991636568957671"
     }
    },
    "outputId": "9dc3d234-ff4a-4af0-d84b-73b40712e574",
    "pycharm": {
     "is_executing": true
    }
   },
   "source": [
    "# Here we have the Times Higher Education World University Ranking dataset, which is one of the most\n",
    "# influential university measures. Let's import the dataset and see what it looks like\n",
    "df = pd.read_csv('datasets/cwurData.csv')\n",
    "df.head()"
   ],
   "execution_count": null,
   "outputs": []
  },
  {
   "cell_type": "code",
   "metadata": {
    "id": "OYzuG-qWT2AT",
    "colab_type": "code",
    "colab": {
     "base_uri": "https://localhost:8080/",
     "height": 281
    },
    "executionInfo": {
     "status": "ok",
     "timestamp": 1600719437795,
     "user_tz": 300,
     "elapsed": 25275,
     "user": {
      "displayName": "JUAN ALEJANDRO GALVIS PACHECO",
      "photoUrl": "https://lh3.googleusercontent.com/a-/AOh14GjkiimzM3aQStztgJqp2zVYmPR9k6BlOYBAZvY70Q=s64",
      "userId": "15927991636568957671"
     }
    },
    "outputId": "5a522645-e5f8-47ef-ddeb-e83c31db201f",
    "pycharm": {
     "is_executing": true
    }
   },
   "source": [
    "# Here we can see each institution's rank, country, quality of education, other metrics, and overall score.\n",
    "# Let's say we want to create a new column called Rank_Level, where institutions with world ranking 1-100 are\n",
    "# categorized as first tier and those with world ranking 101 - 200 are second tier, ranking 201 - 300 are\n",
    "# third tier, after 301 is other top universities.\n",
    "\n",
    "# Now, you actually already have enough knowledge to do this, so why don't you pause the video and give it a\n",
    "# try?\n",
    "\n",
    "# Here's my solution, I'm going to create a function called create_category which will operate on the first\n",
    "# column in the dataframe, world_rank\n",
    "def create_category(ranking):\n",
    "    # Since the rank is just an integer, I'll just do a bunch of if/elif statements\n",
    "    if (ranking >= 1) & (ranking <= 100):\n",
    "        return \"First Tier Top Unversity\"\n",
    "    elif (ranking >= 101) & (ranking <= 200):\n",
    "        return \"Second Tier Top Unversity\"\n",
    "    elif (ranking >= 201) & (ranking <= 300):\n",
    "        return \"Third Tier Top Unversity\"\n",
    "    return \"Other Top Unversity\"\n",
    "\n",
    "# Now we can apply this to a single column of data to create a new series\n",
    "df['Rank_Level'] = df['world_rank'].apply(lambda x: create_category(x))\n",
    "# And lets look at the result\n",
    "df.head()"
   ],
   "execution_count": null,
   "outputs": []
  },
  {
   "cell_type": "code",
   "metadata": {
    "id": "EZtxfyK0T2AW",
    "colab_type": "code",
    "colab": {
     "base_uri": "https://localhost:8080/",
     "height": 257
    },
    "executionInfo": {
     "status": "ok",
     "timestamp": 1600719437796,
     "user_tz": 300,
     "elapsed": 25270,
     "user": {
      "displayName": "JUAN ALEJANDRO GALVIS PACHECO",
      "photoUrl": "https://lh3.googleusercontent.com/a-/AOh14GjkiimzM3aQStztgJqp2zVYmPR9k6BlOYBAZvY70Q=s64",
      "userId": "15927991636568957671"
     }
    },
    "outputId": "207bcdb9-2b28-4da8-ac57-433eee44c43a",
    "pycharm": {
     "is_executing": true
    }
   },
   "source": [
    "# A pivot table allows us to pivot out one of these columns a new column headers and compare it against\n",
    "# another column as row indices. Let's say we want to compare rank level versus country of the universities\n",
    "# and we want to compare in terms of overall score\n",
    "\n",
    "# To do this, we tell Pandas we want the values to be Score, and index to be the country and the columns to be\n",
    "# the rank levels. Then we specify that the aggregation function, and here we'll use the NumPy mean to get the\n",
    "# average rating for universities in that country\n",
    "\n",
    "df.pivot_table(values='score', index='country', columns='Rank_Level', aggfunc=[np.mean]).head()"
   ],
   "execution_count": null,
   "outputs": []
  },
  {
   "cell_type": "code",
   "metadata": {
    "id": "-f4n-RxmT2AZ",
    "colab_type": "code",
    "colab": {},
    "executionInfo": {
     "status": "ok",
     "timestamp": 1600719437797,
     "user_tz": 300,
     "elapsed": 25269,
     "user": {
      "displayName": "JUAN ALEJANDRO GALVIS PACHECO",
      "photoUrl": "https://lh3.googleusercontent.com/a-/AOh14GjkiimzM3aQStztgJqp2zVYmPR9k6BlOYBAZvY70Q=s64",
      "userId": "15927991636568957671"
     }
    },
    "pycharm": {
     "is_executing": true
    }
   },
   "source": [
    "# We can see a  hierarchical dataframe where the index, or rows, are by country and the columns have two\n",
    "# levels, the top level indicating that the mean value is being used and the second level being our ranks. In\n",
    "# this example we only have one variable, the mean, that we are looking at, so we don't really need a\n",
    "# heirarchical index.\n",
    "\n",
    "# We notice that there are some NaN values, for example, the first row, Argentia. The NaN values indicate that\n",
    "# Argentia has only observations in the \"Other Top Unversities\" category"
   ],
   "execution_count": null,
   "outputs": []
  },
  {
   "cell_type": "code",
   "metadata": {
    "id": "zB65d_3fT2Ab",
    "colab_type": "code",
    "colab": {
     "base_uri": "https://localhost:8080/",
     "height": 274
    },
    "executionInfo": {
     "status": "ok",
     "timestamp": 1600719437798,
     "user_tz": 300,
     "elapsed": 25264,
     "user": {
      "displayName": "JUAN ALEJANDRO GALVIS PACHECO",
      "photoUrl": "https://lh3.googleusercontent.com/a-/AOh14GjkiimzM3aQStztgJqp2zVYmPR9k6BlOYBAZvY70Q=s64",
      "userId": "15927991636568957671"
     }
    },
    "outputId": "2fd3940d-3c70-4ae1-be55-37140d9cebb9",
    "pycharm": {
     "is_executing": true
    }
   },
   "source": [
    "# Now, pivot tables aren't limited to one function that you might want to apply. You can pass a named\n",
    "# parameter, aggfunc, which is a list of the different functions to apply, and pandas will provide you with\n",
    "# the result using hierarchical column names.  Let's try that same query, but pass in the max() function too\n",
    "\n",
    "df.pivot_table(values='score', index='country', columns='Rank_Level', aggfunc=[np.mean, np.max]).head()"
   ],
   "execution_count": null,
   "outputs": []
  },
  {
   "cell_type": "code",
   "metadata": {
    "id": "iXnfhQNNT2Ae",
    "colab_type": "code",
    "colab": {
     "base_uri": "https://localhost:8080/",
     "height": 274
    },
    "executionInfo": {
     "status": "ok",
     "timestamp": 1600719437798,
     "user_tz": 300,
     "elapsed": 25258,
     "user": {
      "displayName": "JUAN ALEJANDRO GALVIS PACHECO",
      "photoUrl": "https://lh3.googleusercontent.com/a-/AOh14GjkiimzM3aQStztgJqp2zVYmPR9k6BlOYBAZvY70Q=s64",
      "userId": "15927991636568957671"
     }
    },
    "outputId": "af005733-0e77-4e00-90d0-5b5b2096d895",
    "pycharm": {
     "is_executing": true
    }
   },
   "source": [
    "# So now we see we have both the mean and the max. As mentioned earlier, we can also summarize the values\n",
    "# within a given top level column. For instance, if we want to see an overall average for the country for the\n",
    "# mean and we want to see the max of the max, we can indicate that we want pandas to provide marginal values\n",
    "df.pivot_table(values='score', index='country', columns='Rank_Level', aggfunc=[np.mean, np.max], \n",
    "               margins=True).head()"
   ],
   "execution_count": null,
   "outputs": []
  },
  {
   "cell_type": "code",
   "metadata": {
    "id": "n0_BoCQmT2Ah",
    "colab_type": "code",
    "colab": {
     "base_uri": "https://localhost:8080/",
     "height": 425
    },
    "executionInfo": {
     "status": "ok",
     "timestamp": 1600719437799,
     "user_tz": 300,
     "elapsed": 25252,
     "user": {
      "displayName": "JUAN ALEJANDRO GALVIS PACHECO",
      "photoUrl": "https://lh3.googleusercontent.com/a-/AOh14GjkiimzM3aQStztgJqp2zVYmPR9k6BlOYBAZvY70Q=s64",
      "userId": "15927991636568957671"
     }
    },
    "outputId": "b30b6cdf-40fc-41ed-c203-04d8a2272213",
    "pycharm": {
     "is_executing": true
    }
   },
   "source": [
    "# A pivot table is just a multi-level dataframe, and we can access series or cells in the dataframe in a similar way \n",
    "# as we do so for a regular dataframe. \n",
    "\n",
    "# Let's create a new dataframe from our previous example\n",
    "new_df=df.pivot_table(values='score', index='country', columns='Rank_Level', aggfunc=[np.mean, np.max], \n",
    "               margins=True)\n",
    "# Now let's look at the index\n",
    "print(new_df.index)\n",
    "# And let's look at the columns\n",
    "print(new_df.columns)"
   ],
   "execution_count": null,
   "outputs": []
  },
  {
   "cell_type": "code",
   "metadata": {
    "id": "-DLG0mTHT2Ak",
    "colab_type": "code",
    "colab": {
     "base_uri": "https://localhost:8080/",
     "height": 141
    },
    "executionInfo": {
     "status": "ok",
     "timestamp": 1600719437799,
     "user_tz": 300,
     "elapsed": 25246,
     "user": {
      "displayName": "JUAN ALEJANDRO GALVIS PACHECO",
      "photoUrl": "https://lh3.googleusercontent.com/a-/AOh14GjkiimzM3aQStztgJqp2zVYmPR9k6BlOYBAZvY70Q=s64",
      "userId": "15927991636568957671"
     }
    },
    "outputId": "20b7187d-2963-4acc-f353-1bd3d62a350f",
    "pycharm": {
     "is_executing": true
    }
   },
   "source": [
    "# We can see the columns are hierarchical. The top level column indices have two categories: mean and max, and\n",
    "# the lower level column indices have four categories, which are the four rank levels. How would we query this\n",
    "# if we want to get the average scores of First Tier Top Unversity levels in each country? We would just need\n",
    "# to make two dataframe projections, the first for the mean, then the second for the top tier\n",
    "new_df['mean']['First Tier Top Unversity'].head()"
   ],
   "execution_count": null,
   "outputs": []
  },
  {
   "cell_type": "code",
   "metadata": {
    "id": "xCwhbTjGT2Am",
    "colab_type": "code",
    "colab": {
     "base_uri": "https://localhost:8080/",
     "height": 34
    },
    "executionInfo": {
     "status": "ok",
     "timestamp": 1600719437800,
     "user_tz": 300,
     "elapsed": 25241,
     "user": {
      "displayName": "JUAN ALEJANDRO GALVIS PACHECO",
      "photoUrl": "https://lh3.googleusercontent.com/a-/AOh14GjkiimzM3aQStztgJqp2zVYmPR9k6BlOYBAZvY70Q=s64",
      "userId": "15927991636568957671"
     }
    },
    "outputId": "699299a5-4eb6-4524-c534-47396b5079d0",
    "pycharm": {
     "is_executing": true
    }
   },
   "source": [
    "# We can see that the output is a series object which we can confirm by printing the type. Remember that when\n",
    "# you project a single column of values out of a DataFrame you get a series.\n",
    "type(new_df['mean']['First Tier Top Unversity'])"
   ],
   "execution_count": null,
   "outputs": []
  },
  {
   "cell_type": "code",
   "metadata": {
    "id": "rk5kPChKT2Ap",
    "colab_type": "code",
    "colab": {
     "base_uri": "https://localhost:8080/",
     "height": 35
    },
    "executionInfo": {
     "status": "ok",
     "timestamp": 1600719437801,
     "user_tz": 300,
     "elapsed": 25236,
     "user": {
      "displayName": "JUAN ALEJANDRO GALVIS PACHECO",
      "photoUrl": "https://lh3.googleusercontent.com/a-/AOh14GjkiimzM3aQStztgJqp2zVYmPR9k6BlOYBAZvY70Q=s64",
      "userId": "15927991636568957671"
     }
    },
    "outputId": "424b7c71-639a-4625-9c67-283d84a57a61",
    "pycharm": {
     "is_executing": true
    }
   },
   "source": [
    "# What if we want to find the country that has the maximum average score on First Tier Top University level?\n",
    "# We can use the idxmax() function.\n",
    "new_df['mean']['First Tier Top Unversity'].idxmax()"
   ],
   "execution_count": null,
   "outputs": []
  },
  {
   "cell_type": "code",
   "metadata": {
    "id": "0_Ukg300T2Ar",
    "colab_type": "code",
    "colab": {},
    "executionInfo": {
     "status": "ok",
     "timestamp": 1600719437801,
     "user_tz": 300,
     "elapsed": 25234,
     "user": {
      "displayName": "JUAN ALEJANDRO GALVIS PACHECO",
      "photoUrl": "https://lh3.googleusercontent.com/a-/AOh14GjkiimzM3aQStztgJqp2zVYmPR9k6BlOYBAZvY70Q=s64",
      "userId": "15927991636568957671"
     }
    }
   },
   "source": [
    "# Now, the idxmax() function isn't special for pivot tables, it's a built in function to the Series object.\n",
    "# We don't have time to go over all pandas functions and attributes, and I want to encourage you to explore\n",
    "# the API to learn more deeply what is available to you."
   ],
   "execution_count": 13,
   "outputs": []
  },
  {
   "cell_type": "code",
   "metadata": {
    "id": "djvymh27T2Au",
    "colab_type": "code",
    "colab": {
     "base_uri": "https://localhost:8080/",
     "height": 274
    },
    "executionInfo": {
     "status": "ok",
     "timestamp": 1600719438180,
     "user_tz": 300,
     "elapsed": 25607,
     "user": {
      "displayName": "JUAN ALEJANDRO GALVIS PACHECO",
      "photoUrl": "https://lh3.googleusercontent.com/a-/AOh14GjkiimzM3aQStztgJqp2zVYmPR9k6BlOYBAZvY70Q=s64",
      "userId": "15927991636568957671"
     }
    },
    "outputId": "31f44526-c0c4-4dc1-9546-8bfd34fa1f6c"
   },
   "source": [
    "# If you want to achieve a different shape of your pivot table, you can do so with the stack and unstack\n",
    "# functions. Stacking is pivoting the lowermost column index to become the innermost row index. Unstacking is\n",
    "# the inverse of stacking, pivoting the innermost row index to become the lowermost column index. An example\n",
    "# will help make this clear\n",
    "\n",
    "# Let's look at our pivot table first to refresh what it looks like\n",
    "new_df.head()"
   ],
   "execution_count": 14,
   "outputs": [
    {
     "output_type": "execute_result",
     "data": {
      "text/html": [
       "<div>\n",
       "<style scoped>\n",
       "    .dataframe tbody tr th:only-of-type {\n",
       "        vertical-align: middle;\n",
       "    }\n",
       "\n",
       "    .dataframe tbody tr th {\n",
       "        vertical-align: top;\n",
       "    }\n",
       "\n",
       "    .dataframe thead tr th {\n",
       "        text-align: left;\n",
       "    }\n",
       "\n",
       "    .dataframe thead tr:last-of-type th {\n",
       "        text-align: right;\n",
       "    }\n",
       "</style>\n",
       "<table border=\"1\" class=\"dataframe\">\n",
       "  <thead>\n",
       "    <tr>\n",
       "      <th></th>\n",
       "      <th colspan=\"5\" halign=\"left\">mean</th>\n",
       "      <th colspan=\"5\" halign=\"left\">amax</th>\n",
       "    </tr>\n",
       "    <tr>\n",
       "      <th>Rank_Level</th>\n",
       "      <th>First Tier Top Unversity</th>\n",
       "      <th>Other Top Unversity</th>\n",
       "      <th>Second Tier Top Unversity</th>\n",
       "      <th>Third Tier Top Unversity</th>\n",
       "      <th>All</th>\n",
       "      <th>First Tier Top Unversity</th>\n",
       "      <th>Other Top Unversity</th>\n",
       "      <th>Second Tier Top Unversity</th>\n",
       "      <th>Third Tier Top Unversity</th>\n",
       "      <th>All</th>\n",
       "    </tr>\n",
       "    <tr>\n",
       "      <th>country</th>\n",
       "      <th></th>\n",
       "      <th></th>\n",
       "      <th></th>\n",
       "      <th></th>\n",
       "      <th></th>\n",
       "      <th></th>\n",
       "      <th></th>\n",
       "      <th></th>\n",
       "      <th></th>\n",
       "      <th></th>\n",
       "    </tr>\n",
       "  </thead>\n",
       "  <tbody>\n",
       "    <tr>\n",
       "      <th>Argentina</th>\n",
       "      <td>NaN</td>\n",
       "      <td>44.672857</td>\n",
       "      <td>NaN</td>\n",
       "      <td>NaN</td>\n",
       "      <td>44.672857</td>\n",
       "      <td>NaN</td>\n",
       "      <td>45.66</td>\n",
       "      <td>NaN</td>\n",
       "      <td>NaN</td>\n",
       "      <td>45.66</td>\n",
       "    </tr>\n",
       "    <tr>\n",
       "      <th>Australia</th>\n",
       "      <td>47.9425</td>\n",
       "      <td>44.645750</td>\n",
       "      <td>49.2425</td>\n",
       "      <td>47.285000</td>\n",
       "      <td>45.825517</td>\n",
       "      <td>51.61</td>\n",
       "      <td>45.97</td>\n",
       "      <td>50.40</td>\n",
       "      <td>47.47</td>\n",
       "      <td>51.61</td>\n",
       "    </tr>\n",
       "    <tr>\n",
       "      <th>Austria</th>\n",
       "      <td>NaN</td>\n",
       "      <td>44.864286</td>\n",
       "      <td>NaN</td>\n",
       "      <td>47.066667</td>\n",
       "      <td>45.139583</td>\n",
       "      <td>NaN</td>\n",
       "      <td>46.29</td>\n",
       "      <td>NaN</td>\n",
       "      <td>47.78</td>\n",
       "      <td>47.78</td>\n",
       "    </tr>\n",
       "    <tr>\n",
       "      <th>Belgium</th>\n",
       "      <td>51.8750</td>\n",
       "      <td>45.081000</td>\n",
       "      <td>49.0840</td>\n",
       "      <td>46.746667</td>\n",
       "      <td>47.011000</td>\n",
       "      <td>52.03</td>\n",
       "      <td>46.21</td>\n",
       "      <td>49.73</td>\n",
       "      <td>47.14</td>\n",
       "      <td>52.03</td>\n",
       "    </tr>\n",
       "    <tr>\n",
       "      <th>Brazil</th>\n",
       "      <td>NaN</td>\n",
       "      <td>44.499706</td>\n",
       "      <td>49.5650</td>\n",
       "      <td>NaN</td>\n",
       "      <td>44.781111</td>\n",
       "      <td>NaN</td>\n",
       "      <td>46.08</td>\n",
       "      <td>49.82</td>\n",
       "      <td>NaN</td>\n",
       "      <td>49.82</td>\n",
       "    </tr>\n",
       "  </tbody>\n",
       "</table>\n",
       "</div>"
      ],
      "text/plain": [
       "                               mean  ...   amax\n",
       "Rank_Level First Tier Top Unversity  ...    All\n",
       "country                              ...       \n",
       "Argentina                       NaN  ...  45.66\n",
       "Australia                   47.9425  ...  51.61\n",
       "Austria                         NaN  ...  47.78\n",
       "Belgium                     51.8750  ...  52.03\n",
       "Brazil                          NaN  ...  49.82\n",
       "\n",
       "[5 rows x 10 columns]"
      ]
     },
     "metadata": {
      "tags": []
     },
     "execution_count": 14
    }
   ]
  },
  {
   "cell_type": "code",
   "metadata": {
    "id": "9X_kM03VT2Ax",
    "colab_type": "code",
    "colab": {
     "base_uri": "https://localhost:8080/",
     "height": 227
    },
    "executionInfo": {
     "status": "ok",
     "timestamp": 1600719438181,
     "user_tz": 300,
     "elapsed": 25602,
     "user": {
      "displayName": "JUAN ALEJANDRO GALVIS PACHECO",
      "photoUrl": "https://lh3.googleusercontent.com/a-/AOh14GjkiimzM3aQStztgJqp2zVYmPR9k6BlOYBAZvY70Q=s64",
      "userId": "15927991636568957671"
     }
    },
    "outputId": "6b5b4c7a-5d82-4e60-b4c5-7faf978a42e5"
   },
   "source": [
    "# Now let's try stacking, this should move the lowermost column, so the tiers of the university rankings, to\n",
    "# the inner most row\n",
    "new_df=new_df.stack()\n",
    "new_df.head()"
   ],
   "execution_count": 15,
   "outputs": [
    {
     "output_type": "execute_result",
     "data": {
      "text/html": [
       "<div>\n",
       "<style scoped>\n",
       "    .dataframe tbody tr th:only-of-type {\n",
       "        vertical-align: middle;\n",
       "    }\n",
       "\n",
       "    .dataframe tbody tr th {\n",
       "        vertical-align: top;\n",
       "    }\n",
       "\n",
       "    .dataframe thead th {\n",
       "        text-align: right;\n",
       "    }\n",
       "</style>\n",
       "<table border=\"1\" class=\"dataframe\">\n",
       "  <thead>\n",
       "    <tr style=\"text-align: right;\">\n",
       "      <th></th>\n",
       "      <th></th>\n",
       "      <th>mean</th>\n",
       "      <th>amax</th>\n",
       "    </tr>\n",
       "    <tr>\n",
       "      <th>country</th>\n",
       "      <th>Rank_Level</th>\n",
       "      <th></th>\n",
       "      <th></th>\n",
       "    </tr>\n",
       "  </thead>\n",
       "  <tbody>\n",
       "    <tr>\n",
       "      <th rowspan=\"2\" valign=\"top\">Argentina</th>\n",
       "      <th>Other Top Unversity</th>\n",
       "      <td>44.672857</td>\n",
       "      <td>45.66</td>\n",
       "    </tr>\n",
       "    <tr>\n",
       "      <th>All</th>\n",
       "      <td>44.672857</td>\n",
       "      <td>45.66</td>\n",
       "    </tr>\n",
       "    <tr>\n",
       "      <th rowspan=\"3\" valign=\"top\">Australia</th>\n",
       "      <th>First Tier Top Unversity</th>\n",
       "      <td>47.942500</td>\n",
       "      <td>51.61</td>\n",
       "    </tr>\n",
       "    <tr>\n",
       "      <th>Other Top Unversity</th>\n",
       "      <td>44.645750</td>\n",
       "      <td>45.97</td>\n",
       "    </tr>\n",
       "    <tr>\n",
       "      <th>Second Tier Top Unversity</th>\n",
       "      <td>49.242500</td>\n",
       "      <td>50.40</td>\n",
       "    </tr>\n",
       "  </tbody>\n",
       "</table>\n",
       "</div>"
      ],
      "text/plain": [
       "                                          mean   amax\n",
       "country   Rank_Level                                 \n",
       "Argentina Other Top Unversity        44.672857  45.66\n",
       "          All                        44.672857  45.66\n",
       "Australia First Tier Top Unversity   47.942500  51.61\n",
       "          Other Top Unversity        44.645750  45.97\n",
       "          Second Tier Top Unversity  49.242500  50.40"
      ]
     },
     "metadata": {
      "tags": []
     },
     "execution_count": 15
    }
   ]
  },
  {
   "cell_type": "code",
   "metadata": {
    "id": "I7sQoHZlT2Az",
    "colab_type": "code",
    "colab": {
     "base_uri": "https://localhost:8080/",
     "height": 274
    },
    "executionInfo": {
     "status": "ok",
     "timestamp": 1600719438181,
     "user_tz": 300,
     "elapsed": 25596,
     "user": {
      "displayName": "JUAN ALEJANDRO GALVIS PACHECO",
      "photoUrl": "https://lh3.googleusercontent.com/a-/AOh14GjkiimzM3aQStztgJqp2zVYmPR9k6BlOYBAZvY70Q=s64",
      "userId": "15927991636568957671"
     }
    },
    "outputId": "f27aed3d-f484-49f7-e417-a16ff192e373"
   },
   "source": [
    "# In the original pivot table, rank levels are the lowermost column, after stacking, rank levels become the\n",
    "# innermost index, appearing to the right after country\n",
    "\n",
    "# Now let's try unstacking\n",
    "new_df.unstack().head()"
   ],
   "execution_count": 16,
   "outputs": [
    {
     "output_type": "execute_result",
     "data": {
      "text/html": [
       "<div>\n",
       "<style scoped>\n",
       "    .dataframe tbody tr th:only-of-type {\n",
       "        vertical-align: middle;\n",
       "    }\n",
       "\n",
       "    .dataframe tbody tr th {\n",
       "        vertical-align: top;\n",
       "    }\n",
       "\n",
       "    .dataframe thead tr th {\n",
       "        text-align: left;\n",
       "    }\n",
       "\n",
       "    .dataframe thead tr:last-of-type th {\n",
       "        text-align: right;\n",
       "    }\n",
       "</style>\n",
       "<table border=\"1\" class=\"dataframe\">\n",
       "  <thead>\n",
       "    <tr>\n",
       "      <th></th>\n",
       "      <th colspan=\"5\" halign=\"left\">mean</th>\n",
       "      <th colspan=\"5\" halign=\"left\">amax</th>\n",
       "    </tr>\n",
       "    <tr>\n",
       "      <th>Rank_Level</th>\n",
       "      <th>First Tier Top Unversity</th>\n",
       "      <th>Other Top Unversity</th>\n",
       "      <th>Second Tier Top Unversity</th>\n",
       "      <th>Third Tier Top Unversity</th>\n",
       "      <th>All</th>\n",
       "      <th>First Tier Top Unversity</th>\n",
       "      <th>Other Top Unversity</th>\n",
       "      <th>Second Tier Top Unversity</th>\n",
       "      <th>Third Tier Top Unversity</th>\n",
       "      <th>All</th>\n",
       "    </tr>\n",
       "    <tr>\n",
       "      <th>country</th>\n",
       "      <th></th>\n",
       "      <th></th>\n",
       "      <th></th>\n",
       "      <th></th>\n",
       "      <th></th>\n",
       "      <th></th>\n",
       "      <th></th>\n",
       "      <th></th>\n",
       "      <th></th>\n",
       "      <th></th>\n",
       "    </tr>\n",
       "  </thead>\n",
       "  <tbody>\n",
       "    <tr>\n",
       "      <th>All</th>\n",
       "      <td>58.350675</td>\n",
       "      <td>44.738871</td>\n",
       "      <td>49.06545</td>\n",
       "      <td>46.843450</td>\n",
       "      <td>47.798395</td>\n",
       "      <td>100.00</td>\n",
       "      <td>46.34</td>\n",
       "      <td>51.29</td>\n",
       "      <td>47.93</td>\n",
       "      <td>100.00</td>\n",
       "    </tr>\n",
       "    <tr>\n",
       "      <th>Argentina</th>\n",
       "      <td>NaN</td>\n",
       "      <td>44.672857</td>\n",
       "      <td>NaN</td>\n",
       "      <td>NaN</td>\n",
       "      <td>44.672857</td>\n",
       "      <td>NaN</td>\n",
       "      <td>45.66</td>\n",
       "      <td>NaN</td>\n",
       "      <td>NaN</td>\n",
       "      <td>45.66</td>\n",
       "    </tr>\n",
       "    <tr>\n",
       "      <th>Australia</th>\n",
       "      <td>47.942500</td>\n",
       "      <td>44.645750</td>\n",
       "      <td>49.24250</td>\n",
       "      <td>47.285000</td>\n",
       "      <td>45.825517</td>\n",
       "      <td>51.61</td>\n",
       "      <td>45.97</td>\n",
       "      <td>50.40</td>\n",
       "      <td>47.47</td>\n",
       "      <td>51.61</td>\n",
       "    </tr>\n",
       "    <tr>\n",
       "      <th>Austria</th>\n",
       "      <td>NaN</td>\n",
       "      <td>44.864286</td>\n",
       "      <td>NaN</td>\n",
       "      <td>47.066667</td>\n",
       "      <td>45.139583</td>\n",
       "      <td>NaN</td>\n",
       "      <td>46.29</td>\n",
       "      <td>NaN</td>\n",
       "      <td>47.78</td>\n",
       "      <td>47.78</td>\n",
       "    </tr>\n",
       "    <tr>\n",
       "      <th>Belgium</th>\n",
       "      <td>51.875000</td>\n",
       "      <td>45.081000</td>\n",
       "      <td>49.08400</td>\n",
       "      <td>46.746667</td>\n",
       "      <td>47.011000</td>\n",
       "      <td>52.03</td>\n",
       "      <td>46.21</td>\n",
       "      <td>49.73</td>\n",
       "      <td>47.14</td>\n",
       "      <td>52.03</td>\n",
       "    </tr>\n",
       "  </tbody>\n",
       "</table>\n",
       "</div>"
      ],
      "text/plain": [
       "                               mean  ...    amax\n",
       "Rank_Level First Tier Top Unversity  ...     All\n",
       "country                              ...        \n",
       "All                       58.350675  ...  100.00\n",
       "Argentina                       NaN  ...   45.66\n",
       "Australia                 47.942500  ...   51.61\n",
       "Austria                         NaN  ...   47.78\n",
       "Belgium                   51.875000  ...   52.03\n",
       "\n",
       "[5 rows x 10 columns]"
      ]
     },
     "metadata": {
      "tags": []
     },
     "execution_count": 16
    }
   ]
  },
  {
   "cell_type": "code",
   "metadata": {
    "id": "ZkpqWlv0T2A2",
    "colab_type": "code",
    "colab": {
     "base_uri": "https://localhost:8080/",
     "height": 141
    },
    "executionInfo": {
     "status": "ok",
     "timestamp": 1600719438182,
     "user_tz": 300,
     "elapsed": 25592,
     "user": {
      "displayName": "JUAN ALEJANDRO GALVIS PACHECO",
      "photoUrl": "https://lh3.googleusercontent.com/a-/AOh14GjkiimzM3aQStztgJqp2zVYmPR9k6BlOYBAZvY70Q=s64",
      "userId": "15927991636568957671"
     }
    },
    "outputId": "b8315e49-1372-48b3-b502-842663401ac8"
   },
   "source": [
    "# That seems to restore our dataframe to its original shape. What do you think would happen if we unstacked twice in a row?\n",
    "new_df.unstack().unstack().head()"
   ],
   "execution_count": 17,
   "outputs": [
    {
     "output_type": "execute_result",
     "data": {
      "text/plain": [
       "      Rank_Level                country  \n",
       "mean  First Tier Top Unversity  All          58.350675\n",
       "                                Argentina          NaN\n",
       "                                Australia    47.942500\n",
       "                                Austria            NaN\n",
       "                                Belgium      51.875000\n",
       "dtype: float64"
      ]
     },
     "metadata": {
      "tags": []
     },
     "execution_count": 17
    }
   ]
  },
  {
   "cell_type": "code",
   "metadata": {
    "id": "eICi-_8sT2A4",
    "colab_type": "code",
    "colab": {},
    "executionInfo": {
     "status": "ok",
     "timestamp": 1600719438183,
     "user_tz": 300,
     "elapsed": 25590,
     "user": {
      "displayName": "JUAN ALEJANDRO GALVIS PACHECO",
      "photoUrl": "https://lh3.googleusercontent.com/a-/AOh14GjkiimzM3aQStztgJqp2zVYmPR9k6BlOYBAZvY70Q=s64",
      "userId": "15927991636568957671"
     }
    }
   },
   "source": [
    "# We actually end up unstacking all the way to just a single column, so a series object is returned. This\n",
    "# column is just a \"value\", the meaning of which is denoted by the heirarachical index of operation, rank, and\n",
    "# country."
   ],
   "execution_count": 18,
   "outputs": []
  },
  {
   "cell_type": "markdown",
   "metadata": {
    "id": "VAZx_VhXT2A6",
    "colab_type": "text",
    "pycharm": {
     "name": "#%% md\n"
    }
   },
   "source": [
    "So that's pivot tables. This has been a pretty short description, but they're incredibly useful when dealing\n",
    "with numeric data, especially if you're trying to summarize the data in some form. You'll regularly be\n",
    "creating new pivot tables on slices of data, whether you're exploring the data yourself or preparing data\n",
    "for others to report on. And of course, you can pass any function you want to the aggregate function,\n",
    "including those that you define yourself.\n"
   ]
  }
 ]
}