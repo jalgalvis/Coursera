{
 "nbformat": 4,
 "nbformat_minor": 0,
 "metadata": {
  "kernelspec": {
   "display_name": "Python 3",
   "language": "python",
   "name": "python3"
  },
  "language_info": {
   "codemirror_mode": {
    "name": "ipython",
    "version": 3
   },
   "file_extension": ".py",
   "mimetype": "text/x-python",
   "name": "python",
   "nbconvert_exporter": "python",
   "pygments_lexer": "ipython3",
   "version": "3.7.3"
  },
  "colab": {
   "name": "0_IntroductionToCourse.ipynb",
   "provenance": [],
   "collapsed_sections": [
    "9EmiKQe-Z-sG",
    "cwctm89UZ-sN",
    "6IXTRt7mZ-sf",
    "ZiA1vpGvZ-sq",
    "sWpKFRSoZ-sv"
   ],
   "toc_visible": true
  }
 },
 "cells": [
  {
   "cell_type": "markdown",
   "metadata": {
    "id": "CVnkOjBCaJ2g",
    "colab_type": "text"
   },
   "source": [
    "###For use in COLAB\n"
   ]
  },
  {
   "cell_type": "code",
   "metadata": {
    "id": "IxicmvOKaC8b",
    "colab_type": "code",
    "colab": {
     "base_uri": "https://localhost:8080/",
     "height": 72
    },
    "executionInfo": {
     "status": "ok",
     "timestamp": 1600704319400,
     "user_tz": 300,
     "elapsed": 26313,
     "user": {
      "displayName": "JUAN ALEJANDRO GALVIS PACHECO",
      "photoUrl": "https://lh3.googleusercontent.com/a-/AOh14GjkiimzM3aQStztgJqp2zVYmPR9k6BlOYBAZvY70Q=s64",
      "userId": "15927991636568957671"
     }
    },
    "outputId": "cdcddc56-08cf-4f45-f71b-afd3ba954891",
    "pycharm": {
     "name": "#%%\n"
    }
   },
   "source": [
    "try:\n",
    "  from google.colab import drive\n",
    "  drive.mount('/content/drive')\n",
    "  !rm -rf /content/sample_data\n",
    "  %cd /content/drive/My Drive/projects/ML/learningProcess_courses/DataScience/Introduction/week-1\n",
    "except: pass  "
   ],
   "execution_count": null,
   "outputs": [
    {
     "output_type": "stream",
     "text": [
      "Mounted at /content/drive\n",
      "/content/drive/My Drive/projects/ML/learningProcess_courses/DataScience/Introduction/week-1\n"
     ],
     "name": "stdout"
    }
   ]
  },
  {
   "cell_type": "markdown",
   "metadata": {
    "id": "g4TCXGdfZ-qu",
    "colab_type": "text"
   },
   "source": [
    "---\n",
    "\n",
    "_You are currently looking at **version 1.1** of this notebook. To download notebooks and datafiles, as well as get help on Jupyter notebooks in the Coursera platform, visit the [Jupyter Notebook FAQ](https://www.coursera.org/learn/python-data-analysis/resources/0dhYG) course resource._\n",
    "\n",
    "---"
   ]
  },
  {
   "cell_type": "markdown",
   "metadata": {
    "id": "AV1l-7ahZ-qv",
    "colab_type": "text"
   },
   "source": [
    "# The Python Programming Language: Functions"
   ]
  },
  {
   "cell_type": "code",
   "metadata": {
    "id": "-h4yEXo_Z-qw",
    "colab_type": "code",
    "colab": {
     "base_uri": "https://localhost:8080/",
     "height": 34
    },
    "executionInfo": {
     "status": "ok",
     "timestamp": 1600704319403,
     "user_tz": 300,
     "elapsed": 26305,
     "user": {
      "displayName": "JUAN ALEJANDRO GALVIS PACHECO",
      "photoUrl": "https://lh3.googleusercontent.com/a-/AOh14GjkiimzM3aQStztgJqp2zVYmPR9k6BlOYBAZvY70Q=s64",
      "userId": "15927991636568957671"
     }
    },
    "outputId": "bc223d42-3f51-4071-af65-022dc205d80d"
   },
   "source": [
    "x = 1\n",
    "y = 2\n",
    "x + y"
   ],
   "execution_count": null,
   "outputs": [
    {
     "output_type": "execute_result",
     "data": {
      "text/plain": [
       "3"
      ]
     },
     "metadata": {
      "tags": []
     },
     "execution_count": 2
    }
   ]
  },
  {
   "cell_type": "code",
   "metadata": {
    "id": "ngQ6hVzHZ-q1",
    "colab_type": "code",
    "colab": {
     "base_uri": "https://localhost:8080/",
     "height": 34
    },
    "executionInfo": {
     "status": "ok",
     "timestamp": 1600704319403,
     "user_tz": 300,
     "elapsed": 26300,
     "user": {
      "displayName": "JUAN ALEJANDRO GALVIS PACHECO",
      "photoUrl": "https://lh3.googleusercontent.com/a-/AOh14GjkiimzM3aQStztgJqp2zVYmPR9k6BlOYBAZvY70Q=s64",
      "userId": "15927991636568957671"
     }
    },
    "outputId": "8c09bc79-7c39-4f75-f63f-01f8c0c53f5c"
   },
   "source": [
    "y"
   ],
   "execution_count": null,
   "outputs": [
    {
     "output_type": "execute_result",
     "data": {
      "text/plain": [
       "2"
      ]
     },
     "metadata": {
      "tags": []
     },
     "execution_count": 3
    }
   ]
  },
  {
   "cell_type": "markdown",
   "metadata": {
    "id": "GxVpPgEaZ-q4",
    "colab_type": "text"
   },
   "source": [
    "<br>\n",
    "`add_numbers` is a function that takes two numbers and adds them together."
   ]
  },
  {
   "cell_type": "code",
   "metadata": {
    "id": "WpJQChudZ-q4",
    "colab_type": "code",
    "colab": {
     "base_uri": "https://localhost:8080/",
     "height": 34
    },
    "executionInfo": {
     "status": "ok",
     "timestamp": 1600704319404,
     "user_tz": 300,
     "elapsed": 26296,
     "user": {
      "displayName": "JUAN ALEJANDRO GALVIS PACHECO",
      "photoUrl": "https://lh3.googleusercontent.com/a-/AOh14GjkiimzM3aQStztgJqp2zVYmPR9k6BlOYBAZvY70Q=s64",
      "userId": "15927991636568957671"
     }
    },
    "outputId": "3de8ec92-efd4-4371-a313-d05cb8c18d31"
   },
   "source": [
    "def add_numbers(x, y):\n",
    "    return x + y\n",
    "\n",
    "add_numbers(1, 2)"
   ],
   "execution_count": null,
   "outputs": [
    {
     "output_type": "execute_result",
     "data": {
      "text/plain": [
       "3"
      ]
     },
     "metadata": {
      "tags": []
     },
     "execution_count": 4
    }
   ]
  },
  {
   "cell_type": "markdown",
   "metadata": {
    "id": "sfcvBGc6Z-q7",
    "colab_type": "text"
   },
   "source": [
    "<br>\n",
    "'add_numbers' updated to take an optional 3rd parameter. Using `print` allows printing of multiple expressions within a single cell."
   ]
  },
  {
   "cell_type": "code",
   "metadata": {
    "id": "k9C7YCi1Z-q8",
    "colab_type": "code",
    "colab": {
     "base_uri": "https://localhost:8080/",
     "height": 52
    },
    "executionInfo": {
     "status": "ok",
     "timestamp": 1600704319404,
     "user_tz": 300,
     "elapsed": 26290,
     "user": {
      "displayName": "JUAN ALEJANDRO GALVIS PACHECO",
      "photoUrl": "https://lh3.googleusercontent.com/a-/AOh14GjkiimzM3aQStztgJqp2zVYmPR9k6BlOYBAZvY70Q=s64",
      "userId": "15927991636568957671"
     }
    },
    "outputId": "23c5f693-3ce0-46fa-b787-1b5d9e75b3d4"
   },
   "source": [
    "def add_numbers(x,y,z=None):\n",
    "    if (z==None):\n",
    "        return x+y\n",
    "    else:\n",
    "        return x+y+z\n",
    "\n",
    "print(add_numbers(1, 2))\n",
    "print(add_numbers(1, 2, 3))"
   ],
   "execution_count": null,
   "outputs": [
    {
     "output_type": "stream",
     "text": [
      "3\n",
      "6\n"
     ],
     "name": "stdout"
    }
   ]
  },
  {
   "cell_type": "markdown",
   "metadata": {
    "id": "NgqdsqsjZ-q-",
    "colab_type": "text"
   },
   "source": [
    "<br>\n",
    "`add_numbers` updated to take an optional flag parameter."
   ]
  },
  {
   "cell_type": "code",
   "metadata": {
    "id": "Rb23LmSOZ-q_",
    "colab_type": "code",
    "colab": {
     "base_uri": "https://localhost:8080/",
     "height": 52
    },
    "executionInfo": {
     "status": "ok",
     "timestamp": 1600704319405,
     "user_tz": 300,
     "elapsed": 26286,
     "user": {
      "displayName": "JUAN ALEJANDRO GALVIS PACHECO",
      "photoUrl": "https://lh3.googleusercontent.com/a-/AOh14GjkiimzM3aQStztgJqp2zVYmPR9k6BlOYBAZvY70Q=s64",
      "userId": "15927991636568957671"
     }
    },
    "outputId": "ff1ac6f2-f73c-4b35-fab2-2cd22b0fb2f4"
   },
   "source": [
    "def add_numbers(x, y, z=None, flag=False):\n",
    "    if (flag):\n",
    "        print('Flag is true!')\n",
    "    if (z==None):\n",
    "        return x + y\n",
    "    else:\n",
    "        return x + y + z\n",
    "    \n",
    "print(add_numbers(1, 2, flag=True))"
   ],
   "execution_count": null,
   "outputs": [
    {
     "output_type": "stream",
     "text": [
      "Flag is true!\n",
      "3\n"
     ],
     "name": "stdout"
    }
   ]
  },
  {
   "cell_type": "markdown",
   "metadata": {
    "id": "gOEPM0O8Z-rC",
    "colab_type": "text"
   },
   "source": [
    "<br>\n",
    "Assign function `add_numbers` to variable `a`."
   ]
  },
  {
   "cell_type": "code",
   "metadata": {
    "id": "-H5KuF4qZ-rC",
    "colab_type": "code",
    "colab": {
     "base_uri": "https://localhost:8080/",
     "height": 34
    },
    "executionInfo": {
     "status": "ok",
     "timestamp": 1600704319405,
     "user_tz": 300,
     "elapsed": 26281,
     "user": {
      "displayName": "JUAN ALEJANDRO GALVIS PACHECO",
      "photoUrl": "https://lh3.googleusercontent.com/a-/AOh14GjkiimzM3aQStztgJqp2zVYmPR9k6BlOYBAZvY70Q=s64",
      "userId": "15927991636568957671"
     }
    },
    "outputId": "2de02aa8-57d7-4025-95f5-e53e40029574"
   },
   "source": [
    "def add_numbers(x,y):\n",
    "    return x+y\n",
    "\n",
    "a = add_numbers\n",
    "a(1,2)"
   ],
   "execution_count": null,
   "outputs": [
    {
     "output_type": "execute_result",
     "data": {
      "text/plain": [
       "3"
      ]
     },
     "metadata": {
      "tags": []
     },
     "execution_count": 7
    }
   ]
  },
  {
   "cell_type": "markdown",
   "metadata": {
    "id": "v-FczVOkZ-rF",
    "colab_type": "text"
   },
   "source": [
    "# The Python Programming Language: Types and Sequences"
   ]
  },
  {
   "cell_type": "markdown",
   "metadata": {
    "id": "8zDqi6mhZ-rG",
    "colab_type": "text"
   },
   "source": [
    "<br>\n",
    "Use `type` to return the object's type."
   ]
  },
  {
   "cell_type": "code",
   "metadata": {
    "id": "CjOWlQEEZ-rG",
    "colab_type": "code",
    "colab": {
     "base_uri": "https://localhost:8080/",
     "height": 34
    },
    "executionInfo": {
     "status": "ok",
     "timestamp": 1600704319405,
     "user_tz": 300,
     "elapsed": 26276,
     "user": {
      "displayName": "JUAN ALEJANDRO GALVIS PACHECO",
      "photoUrl": "https://lh3.googleusercontent.com/a-/AOh14GjkiimzM3aQStztgJqp2zVYmPR9k6BlOYBAZvY70Q=s64",
      "userId": "15927991636568957671"
     }
    },
    "outputId": "e363b9d7-5c16-45ea-ebf3-8190e32b7782"
   },
   "source": [
    "type('This is a string')"
   ],
   "execution_count": null,
   "outputs": [
    {
     "output_type": "execute_result",
     "data": {
      "text/plain": [
       "str"
      ]
     },
     "metadata": {
      "tags": []
     },
     "execution_count": 8
    }
   ]
  },
  {
   "cell_type": "code",
   "metadata": {
    "id": "bkGjvMlIZ-rJ",
    "colab_type": "code",
    "colab": {
     "base_uri": "https://localhost:8080/",
     "height": 34
    },
    "executionInfo": {
     "status": "ok",
     "timestamp": 1600704319406,
     "user_tz": 300,
     "elapsed": 26272,
     "user": {
      "displayName": "JUAN ALEJANDRO GALVIS PACHECO",
      "photoUrl": "https://lh3.googleusercontent.com/a-/AOh14GjkiimzM3aQStztgJqp2zVYmPR9k6BlOYBAZvY70Q=s64",
      "userId": "15927991636568957671"
     }
    },
    "outputId": "5ad2345c-6a26-424e-a73e-d2897fdcf9dc"
   },
   "source": [
    "type(None)"
   ],
   "execution_count": null,
   "outputs": [
    {
     "output_type": "execute_result",
     "data": {
      "text/plain": [
       "NoneType"
      ]
     },
     "metadata": {
      "tags": []
     },
     "execution_count": 9
    }
   ]
  },
  {
   "cell_type": "code",
   "metadata": {
    "id": "83xay5-ZZ-rL",
    "colab_type": "code",
    "colab": {
     "base_uri": "https://localhost:8080/",
     "height": 34
    },
    "executionInfo": {
     "status": "ok",
     "timestamp": 1600704319406,
     "user_tz": 300,
     "elapsed": 26266,
     "user": {
      "displayName": "JUAN ALEJANDRO GALVIS PACHECO",
      "photoUrl": "https://lh3.googleusercontent.com/a-/AOh14GjkiimzM3aQStztgJqp2zVYmPR9k6BlOYBAZvY70Q=s64",
      "userId": "15927991636568957671"
     }
    },
    "outputId": "7c09f2f6-f16e-4a6e-e524-bca148f71bd0"
   },
   "source": [
    "type(1)"
   ],
   "execution_count": null,
   "outputs": [
    {
     "output_type": "execute_result",
     "data": {
      "text/plain": [
       "int"
      ]
     },
     "metadata": {
      "tags": []
     },
     "execution_count": 10
    }
   ]
  },
  {
   "cell_type": "code",
   "metadata": {
    "id": "w_eUkQ42Z-rO",
    "colab_type": "code",
    "colab": {
     "base_uri": "https://localhost:8080/",
     "height": 34
    },
    "executionInfo": {
     "status": "ok",
     "timestamp": 1600704319407,
     "user_tz": 300,
     "elapsed": 26262,
     "user": {
      "displayName": "JUAN ALEJANDRO GALVIS PACHECO",
      "photoUrl": "https://lh3.googleusercontent.com/a-/AOh14GjkiimzM3aQStztgJqp2zVYmPR9k6BlOYBAZvY70Q=s64",
      "userId": "15927991636568957671"
     }
    },
    "outputId": "84ee62e6-4528-4f15-e522-d9c745e7a3b6"
   },
   "source": [
    "type(1.0)"
   ],
   "execution_count": null,
   "outputs": [
    {
     "output_type": "execute_result",
     "data": {
      "text/plain": [
       "float"
      ]
     },
     "metadata": {
      "tags": []
     },
     "execution_count": 11
    }
   ]
  },
  {
   "cell_type": "code",
   "metadata": {
    "id": "k7PZNZ4-Z-rQ",
    "colab_type": "code",
    "colab": {
     "base_uri": "https://localhost:8080/",
     "height": 34
    },
    "executionInfo": {
     "status": "ok",
     "timestamp": 1600704319407,
     "user_tz": 300,
     "elapsed": 26257,
     "user": {
      "displayName": "JUAN ALEJANDRO GALVIS PACHECO",
      "photoUrl": "https://lh3.googleusercontent.com/a-/AOh14GjkiimzM3aQStztgJqp2zVYmPR9k6BlOYBAZvY70Q=s64",
      "userId": "15927991636568957671"
     }
    },
    "outputId": "c37fa019-7f75-4a71-b150-70afdf86934a"
   },
   "source": [
    "type(add_numbers)"
   ],
   "execution_count": null,
   "outputs": [
    {
     "output_type": "execute_result",
     "data": {
      "text/plain": [
       "function"
      ]
     },
     "metadata": {
      "tags": []
     },
     "execution_count": 12
    }
   ]
  },
  {
   "cell_type": "markdown",
   "metadata": {
    "id": "x2TpBODOZ-rT",
    "colab_type": "text"
   },
   "source": [
    "<br>\n",
    "Tuples are an immutable data structure (cannot be altered)."
   ]
  },
  {
   "cell_type": "code",
   "metadata": {
    "id": "3tDqiE5yZ-rT",
    "colab_type": "code",
    "colab": {
     "base_uri": "https://localhost:8080/",
     "height": 34
    },
    "executionInfo": {
     "status": "ok",
     "timestamp": 1600704319408,
     "user_tz": 300,
     "elapsed": 26252,
     "user": {
      "displayName": "JUAN ALEJANDRO GALVIS PACHECO",
      "photoUrl": "https://lh3.googleusercontent.com/a-/AOh14GjkiimzM3aQStztgJqp2zVYmPR9k6BlOYBAZvY70Q=s64",
      "userId": "15927991636568957671"
     }
    },
    "outputId": "4942ac50-f11e-4c05-8536-2378fcd53cd6"
   },
   "source": [
    "x = (1, 'a', 2, 'b')\n",
    "type(x)"
   ],
   "execution_count": null,
   "outputs": [
    {
     "output_type": "execute_result",
     "data": {
      "text/plain": [
       "tuple"
      ]
     },
     "metadata": {
      "tags": []
     },
     "execution_count": 13
    }
   ]
  },
  {
   "cell_type": "markdown",
   "metadata": {
    "id": "NcRrRYDBZ-rV",
    "colab_type": "text"
   },
   "source": [
    "<br>\n",
    "Lists are a mutable data structure."
   ]
  },
  {
   "cell_type": "code",
   "metadata": {
    "id": "-oyQ7TB-Z-rW",
    "colab_type": "code",
    "colab": {
     "base_uri": "https://localhost:8080/",
     "height": 34
    },
    "executionInfo": {
     "status": "ok",
     "timestamp": 1600704319408,
     "user_tz": 300,
     "elapsed": 26247,
     "user": {
      "displayName": "JUAN ALEJANDRO GALVIS PACHECO",
      "photoUrl": "https://lh3.googleusercontent.com/a-/AOh14GjkiimzM3aQStztgJqp2zVYmPR9k6BlOYBAZvY70Q=s64",
      "userId": "15927991636568957671"
     }
    },
    "outputId": "40e8c8d0-de8b-44b5-be6e-ebb5d72dbc78"
   },
   "source": [
    "x = [1, 'a', 2, 'b']\n",
    "type(x)"
   ],
   "execution_count": null,
   "outputs": [
    {
     "output_type": "execute_result",
     "data": {
      "text/plain": [
       "list"
      ]
     },
     "metadata": {
      "tags": []
     },
     "execution_count": 14
    }
   ]
  },
  {
   "cell_type": "markdown",
   "metadata": {
    "id": "Kujn6aw5Z-rY",
    "colab_type": "text"
   },
   "source": [
    "<br>\n",
    "Use `append` to append an object to a list."
   ]
  },
  {
   "cell_type": "code",
   "metadata": {
    "id": "_dnMQtHvZ-rY",
    "colab_type": "code",
    "colab": {
     "base_uri": "https://localhost:8080/",
     "height": 34
    },
    "executionInfo": {
     "status": "ok",
     "timestamp": 1600704319408,
     "user_tz": 300,
     "elapsed": 26242,
     "user": {
      "displayName": "JUAN ALEJANDRO GALVIS PACHECO",
      "photoUrl": "https://lh3.googleusercontent.com/a-/AOh14GjkiimzM3aQStztgJqp2zVYmPR9k6BlOYBAZvY70Q=s64",
      "userId": "15927991636568957671"
     }
    },
    "outputId": "2f873f42-f865-40fb-a393-24a449b99071"
   },
   "source": [
    "x.append(3.3)\n",
    "print(x)"
   ],
   "execution_count": null,
   "outputs": [
    {
     "output_type": "stream",
     "text": [
      "[1, 'a', 2, 'b', 3.3]\n"
     ],
     "name": "stdout"
    }
   ]
  },
  {
   "cell_type": "markdown",
   "metadata": {
    "id": "wrhTttsnZ-ra",
    "colab_type": "text"
   },
   "source": [
    "<br>\n",
    "This is an example of how to loop through each item in the list."
   ]
  },
  {
   "cell_type": "code",
   "metadata": {
    "id": "8nCn2SJuZ-ra",
    "colab_type": "code",
    "colab": {
     "base_uri": "https://localhost:8080/",
     "height": 105
    },
    "executionInfo": {
     "status": "ok",
     "timestamp": 1600704319409,
     "user_tz": 300,
     "elapsed": 26238,
     "user": {
      "displayName": "JUAN ALEJANDRO GALVIS PACHECO",
      "photoUrl": "https://lh3.googleusercontent.com/a-/AOh14GjkiimzM3aQStztgJqp2zVYmPR9k6BlOYBAZvY70Q=s64",
      "userId": "15927991636568957671"
     }
    },
    "outputId": "039fa38a-d57f-492a-f006-76b65972131e"
   },
   "source": [
    "for item in x:\n",
    "    print(item)"
   ],
   "execution_count": null,
   "outputs": [
    {
     "output_type": "stream",
     "text": [
      "1\n",
      "a\n",
      "2\n",
      "b\n",
      "3.3\n"
     ],
     "name": "stdout"
    }
   ]
  },
  {
   "cell_type": "markdown",
   "metadata": {
    "id": "lZA4Mt2sZ-rc",
    "colab_type": "text"
   },
   "source": [
    "<br>\n",
    "Or using the indexing operator:"
   ]
  },
  {
   "cell_type": "code",
   "metadata": {
    "id": "DPNrgOzOZ-rd",
    "colab_type": "code",
    "colab": {
     "base_uri": "https://localhost:8080/",
     "height": 105
    },
    "executionInfo": {
     "status": "ok",
     "timestamp": 1600704319409,
     "user_tz": 300,
     "elapsed": 26233,
     "user": {
      "displayName": "JUAN ALEJANDRO GALVIS PACHECO",
      "photoUrl": "https://lh3.googleusercontent.com/a-/AOh14GjkiimzM3aQStztgJqp2zVYmPR9k6BlOYBAZvY70Q=s64",
      "userId": "15927991636568957671"
     }
    },
    "outputId": "427b7a71-7c79-4df4-97aa-727ff686964e"
   },
   "source": [
    "i=0\n",
    "while( i != len(x) ):\n",
    "    print(x[i])\n",
    "    i = i + 1"
   ],
   "execution_count": null,
   "outputs": [
    {
     "output_type": "stream",
     "text": [
      "1\n",
      "a\n",
      "2\n",
      "b\n",
      "3.3\n"
     ],
     "name": "stdout"
    }
   ]
  },
  {
   "cell_type": "markdown",
   "metadata": {
    "id": "w_iG6k9HZ-re",
    "colab_type": "text"
   },
   "source": [
    "<br>\n",
    "Use `+` to concatenate lists."
   ]
  },
  {
   "cell_type": "code",
   "metadata": {
    "id": "BFRiwr-uZ-rf",
    "colab_type": "code",
    "colab": {
     "base_uri": "https://localhost:8080/",
     "height": 34
    },
    "executionInfo": {
     "status": "ok",
     "timestamp": 1600704319410,
     "user_tz": 300,
     "elapsed": 26228,
     "user": {
      "displayName": "JUAN ALEJANDRO GALVIS PACHECO",
      "photoUrl": "https://lh3.googleusercontent.com/a-/AOh14GjkiimzM3aQStztgJqp2zVYmPR9k6BlOYBAZvY70Q=s64",
      "userId": "15927991636568957671"
     }
    },
    "outputId": "1454bde1-83df-444e-ccac-9fe5c4475be5"
   },
   "source": [
    "[1,2] + [3,4]"
   ],
   "execution_count": null,
   "outputs": [
    {
     "output_type": "execute_result",
     "data": {
      "text/plain": [
       "[1, 2, 3, 4]"
      ]
     },
     "metadata": {
      "tags": []
     },
     "execution_count": 18
    }
   ]
  },
  {
   "cell_type": "markdown",
   "metadata": {
    "id": "VfU51UnCZ-rg",
    "colab_type": "text"
   },
   "source": [
    "<br>\n",
    "Use `*` to repeat lists."
   ]
  },
  {
   "cell_type": "code",
   "metadata": {
    "id": "WjSJVJqDZ-rh",
    "colab_type": "code",
    "colab": {
     "base_uri": "https://localhost:8080/",
     "height": 34
    },
    "executionInfo": {
     "status": "ok",
     "timestamp": 1600704319410,
     "user_tz": 300,
     "elapsed": 26223,
     "user": {
      "displayName": "JUAN ALEJANDRO GALVIS PACHECO",
      "photoUrl": "https://lh3.googleusercontent.com/a-/AOh14GjkiimzM3aQStztgJqp2zVYmPR9k6BlOYBAZvY70Q=s64",
      "userId": "15927991636568957671"
     }
    },
    "outputId": "3ca66d61-542b-41bf-a5cd-64331095a809"
   },
   "source": [
    "[1]*3"
   ],
   "execution_count": null,
   "outputs": [
    {
     "output_type": "execute_result",
     "data": {
      "text/plain": [
       "[1, 1, 1]"
      ]
     },
     "metadata": {
      "tags": []
     },
     "execution_count": 19
    }
   ]
  },
  {
   "cell_type": "markdown",
   "metadata": {
    "id": "tNT7QvAnZ-ri",
    "colab_type": "text"
   },
   "source": [
    "<br>\n",
    "Use the `in` operator to check if something is inside a list."
   ]
  },
  {
   "cell_type": "code",
   "metadata": {
    "id": "eAwL83erZ-ri",
    "colab_type": "code",
    "colab": {
     "base_uri": "https://localhost:8080/",
     "height": 34
    },
    "executionInfo": {
     "status": "ok",
     "timestamp": 1600704319410,
     "user_tz": 300,
     "elapsed": 26218,
     "user": {
      "displayName": "JUAN ALEJANDRO GALVIS PACHECO",
      "photoUrl": "https://lh3.googleusercontent.com/a-/AOh14GjkiimzM3aQStztgJqp2zVYmPR9k6BlOYBAZvY70Q=s64",
      "userId": "15927991636568957671"
     }
    },
    "outputId": "41a1329b-70d2-45c3-e896-065f9baf7d09"
   },
   "source": [
    "1 in [1, 2, 3]"
   ],
   "execution_count": null,
   "outputs": [
    {
     "output_type": "execute_result",
     "data": {
      "text/plain": [
       "True"
      ]
     },
     "metadata": {
      "tags": []
     },
     "execution_count": 20
    }
   ]
  },
  {
   "cell_type": "markdown",
   "metadata": {
    "id": "8ah3VyA8Z-rk",
    "colab_type": "text"
   },
   "source": [
    "<br>\n",
    "Now let's look at strings. Use bracket notation to slice a string."
   ]
  },
  {
   "cell_type": "code",
   "metadata": {
    "id": "DNUsRNfoZ-rk",
    "colab_type": "code",
    "colab": {
     "base_uri": "https://localhost:8080/",
     "height": 70
    },
    "executionInfo": {
     "status": "ok",
     "timestamp": 1600704320104,
     "user_tz": 300,
     "elapsed": 26907,
     "user": {
      "displayName": "JUAN ALEJANDRO GALVIS PACHECO",
      "photoUrl": "https://lh3.googleusercontent.com/a-/AOh14GjkiimzM3aQStztgJqp2zVYmPR9k6BlOYBAZvY70Q=s64",
      "userId": "15927991636568957671"
     }
    },
    "outputId": "41796b8e-0a04-47e0-a52a-a39830e3baa0"
   },
   "source": [
    "x = 'This is a string'\n",
    "print(x[0]) #first character\n",
    "print(x[0:1]) #first character, but we have explicitly set the end character\n",
    "print(x[0:2]) #first two characters\n"
   ],
   "execution_count": null,
   "outputs": [
    {
     "output_type": "stream",
     "text": [
      "T\n",
      "T\n",
      "Th\n"
     ],
     "name": "stdout"
    }
   ]
  },
  {
   "cell_type": "markdown",
   "metadata": {
    "id": "sN8Kwz9JZ-rm",
    "colab_type": "text"
   },
   "source": [
    "<br>\n",
    "This will return the last element of the string."
   ]
  },
  {
   "cell_type": "code",
   "metadata": {
    "id": "lsmV7ahlZ-rm",
    "colab_type": "code",
    "colab": {
     "base_uri": "https://localhost:8080/",
     "height": 35
    },
    "executionInfo": {
     "status": "ok",
     "timestamp": 1600704320104,
     "user_tz": 300,
     "elapsed": 26901,
     "user": {
      "displayName": "JUAN ALEJANDRO GALVIS PACHECO",
      "photoUrl": "https://lh3.googleusercontent.com/a-/AOh14GjkiimzM3aQStztgJqp2zVYmPR9k6BlOYBAZvY70Q=s64",
      "userId": "15927991636568957671"
     }
    },
    "outputId": "66876311-c193-4ccf-ec2c-2ac8c83151ed"
   },
   "source": [
    "x[-1]"
   ],
   "execution_count": null,
   "outputs": [
    {
     "output_type": "execute_result",
     "data": {
      "application/vnd.google.colaboratory.intrinsic+json": {
       "type": "string"
      },
      "text/plain": [
       "'g'"
      ]
     },
     "metadata": {
      "tags": []
     },
     "execution_count": 22
    }
   ]
  },
  {
   "cell_type": "markdown",
   "metadata": {
    "id": "-rHl00ooZ-ro",
    "colab_type": "text"
   },
   "source": [
    "<br>\n",
    "This will return the slice starting from the 4th element from the end and stopping before the 2nd element from the end."
   ]
  },
  {
   "cell_type": "code",
   "metadata": {
    "id": "gL0M9VIiZ-ro",
    "colab_type": "code",
    "colab": {
     "base_uri": "https://localhost:8080/",
     "height": 35
    },
    "executionInfo": {
     "status": "ok",
     "timestamp": 1600704320105,
     "user_tz": 300,
     "elapsed": 26897,
     "user": {
      "displayName": "JUAN ALEJANDRO GALVIS PACHECO",
      "photoUrl": "https://lh3.googleusercontent.com/a-/AOh14GjkiimzM3aQStztgJqp2zVYmPR9k6BlOYBAZvY70Q=s64",
      "userId": "15927991636568957671"
     }
    },
    "outputId": "2f1be223-47ef-42ef-ac1b-1cd5ab813855"
   },
   "source": [
    "x[-4:-2]"
   ],
   "execution_count": null,
   "outputs": [
    {
     "output_type": "execute_result",
     "data": {
      "application/vnd.google.colaboratory.intrinsic+json": {
       "type": "string"
      },
      "text/plain": [
       "'ri'"
      ]
     },
     "metadata": {
      "tags": []
     },
     "execution_count": 23
    }
   ]
  },
  {
   "cell_type": "markdown",
   "metadata": {
    "id": "ofO_fMECZ-rq",
    "colab_type": "text"
   },
   "source": [
    "<br>\n",
    "This is a slice from the beginning of the string and stopping before the 3rd element."
   ]
  },
  {
   "cell_type": "code",
   "metadata": {
    "id": "_nWX9HH5Z-rq",
    "colab_type": "code",
    "colab": {
     "base_uri": "https://localhost:8080/",
     "height": 35
    },
    "executionInfo": {
     "status": "ok",
     "timestamp": 1600704320105,
     "user_tz": 300,
     "elapsed": 26892,
     "user": {
      "displayName": "JUAN ALEJANDRO GALVIS PACHECO",
      "photoUrl": "https://lh3.googleusercontent.com/a-/AOh14GjkiimzM3aQStztgJqp2zVYmPR9k6BlOYBAZvY70Q=s64",
      "userId": "15927991636568957671"
     }
    },
    "outputId": "ec5a27e3-c38f-4c7d-d124-97ced7c376ee"
   },
   "source": [
    "x[:3]"
   ],
   "execution_count": null,
   "outputs": [
    {
     "output_type": "execute_result",
     "data": {
      "application/vnd.google.colaboratory.intrinsic+json": {
       "type": "string"
      },
      "text/plain": [
       "'Thi'"
      ]
     },
     "metadata": {
      "tags": []
     },
     "execution_count": 24
    }
   ]
  },
  {
   "cell_type": "markdown",
   "metadata": {
    "id": "sFgCyUwvZ-rs",
    "colab_type": "text"
   },
   "source": [
    "<br>\n",
    "And this is a slice starting from the 4th element of the string and going all the way to the end."
   ]
  },
  {
   "cell_type": "code",
   "metadata": {
    "id": "ZUBsxTicZ-rs",
    "colab_type": "code",
    "colab": {
     "base_uri": "https://localhost:8080/",
     "height": 35
    },
    "executionInfo": {
     "status": "ok",
     "timestamp": 1600704320106,
     "user_tz": 300,
     "elapsed": 26888,
     "user": {
      "displayName": "JUAN ALEJANDRO GALVIS PACHECO",
      "photoUrl": "https://lh3.googleusercontent.com/a-/AOh14GjkiimzM3aQStztgJqp2zVYmPR9k6BlOYBAZvY70Q=s64",
      "userId": "15927991636568957671"
     }
    },
    "outputId": "a07decb9-fac1-40fd-b222-7182c4da4f93"
   },
   "source": [
    "x[3:]"
   ],
   "execution_count": null,
   "outputs": [
    {
     "output_type": "execute_result",
     "data": {
      "application/vnd.google.colaboratory.intrinsic+json": {
       "type": "string"
      },
      "text/plain": [
       "'s is a string'"
      ]
     },
     "metadata": {
      "tags": []
     },
     "execution_count": 25
    }
   ]
  },
  {
   "cell_type": "code",
   "metadata": {
    "id": "RKFoT76oZ-ru",
    "colab_type": "code",
    "colab": {
     "base_uri": "https://localhost:8080/",
     "height": 70
    },
    "executionInfo": {
     "status": "ok",
     "timestamp": 1600704320106,
     "user_tz": 300,
     "elapsed": 26883,
     "user": {
      "displayName": "JUAN ALEJANDRO GALVIS PACHECO",
      "photoUrl": "https://lh3.googleusercontent.com/a-/AOh14GjkiimzM3aQStztgJqp2zVYmPR9k6BlOYBAZvY70Q=s64",
      "userId": "15927991636568957671"
     }
    },
    "outputId": "adaac2ac-40ca-4636-b792-b12d6a20e76b"
   },
   "source": [
    "firstname = 'Christopher'\n",
    "lastname = 'Brooks'\n",
    "\n",
    "print(firstname + ' ' + lastname)\n",
    "print(firstname*3)\n",
    "print('Chris' in firstname)\n"
   ],
   "execution_count": null,
   "outputs": [
    {
     "output_type": "stream",
     "text": [
      "Christopher Brooks\n",
      "ChristopherChristopherChristopher\n",
      "True\n"
     ],
     "name": "stdout"
    }
   ]
  },
  {
   "cell_type": "markdown",
   "metadata": {
    "id": "OZnw66UNZ-rw",
    "colab_type": "text"
   },
   "source": [
    "<br>\n",
    "`split` returns a list of all the words in a string, or a list split on a specific character."
   ]
  },
  {
   "cell_type": "code",
   "metadata": {
    "id": "VonbXINHZ-rw",
    "colab_type": "code",
    "colab": {
     "base_uri": "https://localhost:8080/",
     "height": 52
    },
    "executionInfo": {
     "status": "ok",
     "timestamp": 1600704320107,
     "user_tz": 300,
     "elapsed": 26879,
     "user": {
      "displayName": "JUAN ALEJANDRO GALVIS PACHECO",
      "photoUrl": "https://lh3.googleusercontent.com/a-/AOh14GjkiimzM3aQStztgJqp2zVYmPR9k6BlOYBAZvY70Q=s64",
      "userId": "15927991636568957671"
     }
    },
    "outputId": "11370a83-e7f5-4fb0-8782-d38a0ff05298"
   },
   "source": [
    "firstname = 'Christopher Arthur Hansen Brooks'.split(' ')[0] # [0] selects the first element of the list\n",
    "lastname = 'Christopher Arthur Hansen Brooks'.split(' ')[-1] # [-1] selects the last element of the list\n",
    "print(firstname)\n",
    "print(lastname)"
   ],
   "execution_count": null,
   "outputs": [
    {
     "output_type": "stream",
     "text": [
      "Christopher\n",
      "Brooks\n"
     ],
     "name": "stdout"
    }
   ]
  },
  {
   "cell_type": "markdown",
   "metadata": {
    "id": "r1Cdg-qzZ-ry",
    "colab_type": "text"
   },
   "source": [
    "<br>\n",
    "Make sure you convert objects to strings before concatenating."
   ]
  },
  {
   "cell_type": "code",
   "metadata": {
    "id": "maVYItvVZ-ry",
    "colab_type": "code",
    "colab": {
     "base_uri": "https://localhost:8080/",
     "height": 52
    },
    "executionInfo": {
     "status": "ok",
     "timestamp": 1600704465155,
     "user_tz": 300,
     "elapsed": 841,
     "user": {
      "displayName": "JUAN ALEJANDRO GALVIS PACHECO",
      "photoUrl": "https://lh3.googleusercontent.com/a-/AOh14GjkiimzM3aQStztgJqp2zVYmPR9k6BlOYBAZvY70Q=s64",
      "userId": "15927991636568957671"
     }
    },
    "outputId": "1a59cffb-54d8-4285-e02e-1064676c5bb9"
   },
   "source": [
    "try:\n",
    "  'Chris' + 2    \n",
    "except Exception as e:\n",
    "    print(e.__repr__(), '\\n context: ', e.__context__.__repr__())\n"
   ],
   "execution_count": null,
   "outputs": [
    {
     "output_type": "stream",
     "text": [
      "TypeError('must be str, not int',) \n",
      " context:  None\n"
     ],
     "name": "stdout"
    }
   ]
  },
  {
   "cell_type": "code",
   "metadata": {
    "id": "-WMleG7AZ-r0",
    "colab_type": "code",
    "colab": {
     "base_uri": "https://localhost:8080/",
     "height": 35
    },
    "executionInfo": {
     "status": "ok",
     "timestamp": 1600704471955,
     "user_tz": 300,
     "elapsed": 1218,
     "user": {
      "displayName": "JUAN ALEJANDRO GALVIS PACHECO",
      "photoUrl": "https://lh3.googleusercontent.com/a-/AOh14GjkiimzM3aQStztgJqp2zVYmPR9k6BlOYBAZvY70Q=s64",
      "userId": "15927991636568957671"
     }
    },
    "outputId": "f199eb1c-9da3-4155-9464-690adc6ddc87"
   },
   "source": [
    "'Chris' + str(2)"
   ],
   "execution_count": null,
   "outputs": [
    {
     "output_type": "execute_result",
     "data": {
      "application/vnd.google.colaboratory.intrinsic+json": {
       "type": "string"
      },
      "text/plain": [
       "'Chris2'"
      ]
     },
     "metadata": {
      "tags": []
     },
     "execution_count": 30
    }
   ]
  },
  {
   "cell_type": "markdown",
   "metadata": {
    "id": "gfBBysu7Z-r1",
    "colab_type": "text"
   },
   "source": [
    "<br>\n",
    "Dictionaries associate keys with values."
   ]
  },
  {
   "cell_type": "code",
   "metadata": {
    "id": "1yqeQvjEZ-r2",
    "colab_type": "code",
    "colab": {
     "base_uri": "https://localhost:8080/",
     "height": 35
    },
    "executionInfo": {
     "status": "ok",
     "timestamp": 1600704472614,
     "user_tz": 300,
     "elapsed": 1871,
     "user": {
      "displayName": "JUAN ALEJANDRO GALVIS PACHECO",
      "photoUrl": "https://lh3.googleusercontent.com/a-/AOh14GjkiimzM3aQStztgJqp2zVYmPR9k6BlOYBAZvY70Q=s64",
      "userId": "15927991636568957671"
     }
    },
    "outputId": "9ae67cf4-1319-4557-ae85-316047a7853d"
   },
   "source": [
    "x = {'Christopher Brooks': 'brooksch@umich.edu', 'Bill Gates': 'billg@microsoft.com'}\n",
    "x['Christopher Brooks'] # Retrieve a value by using the indexing operator\n"
   ],
   "execution_count": null,
   "outputs": [
    {
     "output_type": "execute_result",
     "data": {
      "application/vnd.google.colaboratory.intrinsic+json": {
       "type": "string"
      },
      "text/plain": [
       "'brooksch@umich.edu'"
      ]
     },
     "metadata": {
      "tags": []
     },
     "execution_count": 31
    }
   ]
  },
  {
   "cell_type": "code",
   "metadata": {
    "id": "nOd2mOrJZ-r3",
    "colab_type": "code",
    "colab": {}
   },
   "source": [
    "x['Kevyn Collins-Thompson'] = None\n",
    "x['Kevyn Collins-Thompson']"
   ],
   "execution_count": null,
   "outputs": []
  },
  {
   "cell_type": "markdown",
   "metadata": {
    "id": "gW19N35xZ-r5",
    "colab_type": "text"
   },
   "source": [
    "<br>\n",
    "Iterate over all of the keys:"
   ]
  },
  {
   "cell_type": "code",
   "metadata": {
    "scrolled": true,
    "id": "Wav_bvh4Z-r5",
    "colab_type": "code",
    "colab": {
     "base_uri": "https://localhost:8080/",
     "height": 70
    },
    "executionInfo": {
     "status": "ok",
     "timestamp": 1600704472616,
     "user_tz": 300,
     "elapsed": 1861,
     "user": {
      "displayName": "JUAN ALEJANDRO GALVIS PACHECO",
      "photoUrl": "https://lh3.googleusercontent.com/a-/AOh14GjkiimzM3aQStztgJqp2zVYmPR9k6BlOYBAZvY70Q=s64",
      "userId": "15927991636568957671"
     }
    },
    "outputId": "b24fe281-19dc-4be7-8224-37df5ce11598"
   },
   "source": [
    "for name in x:\n",
    "    print(x[name])"
   ],
   "execution_count": null,
   "outputs": [
    {
     "output_type": "stream",
     "text": [
      "brooksch@umich.edu\n",
      "billg@microsoft.com\n",
      "None\n"
     ],
     "name": "stdout"
    }
   ]
  },
  {
   "cell_type": "markdown",
   "metadata": {
    "id": "yoFIPSJOZ-r7",
    "colab_type": "text"
   },
   "source": [
    "<br>\n",
    "Iterate over all of the values:"
   ]
  },
  {
   "cell_type": "code",
   "metadata": {
    "id": "I2oBkdU2Z-r7",
    "colab_type": "code",
    "colab": {
     "base_uri": "https://localhost:8080/",
     "height": 70
    },
    "executionInfo": {
     "status": "ok",
     "timestamp": 1600704472616,
     "user_tz": 300,
     "elapsed": 1856,
     "user": {
      "displayName": "JUAN ALEJANDRO GALVIS PACHECO",
      "photoUrl": "https://lh3.googleusercontent.com/a-/AOh14GjkiimzM3aQStztgJqp2zVYmPR9k6BlOYBAZvY70Q=s64",
      "userId": "15927991636568957671"
     }
    },
    "outputId": "932cb3bc-0622-43ee-f2c9-49a52dba4814"
   },
   "source": [
    "for email in x.values():\n",
    "    print(email)"
   ],
   "execution_count": null,
   "outputs": [
    {
     "output_type": "stream",
     "text": [
      "brooksch@umich.edu\n",
      "billg@microsoft.com\n",
      "None\n"
     ],
     "name": "stdout"
    }
   ]
  },
  {
   "cell_type": "markdown",
   "metadata": {
    "id": "8awVxtSGZ-r8",
    "colab_type": "text"
   },
   "source": [
    "<br>\n",
    "Iterate over all of the items in the list:"
   ]
  },
  {
   "cell_type": "code",
   "metadata": {
    "id": "RUL7Y0zbZ-r9",
    "colab_type": "code",
    "colab": {
     "base_uri": "https://localhost:8080/",
     "height": 123
    },
    "executionInfo": {
     "status": "ok",
     "timestamp": 1600704472617,
     "user_tz": 300,
     "elapsed": 1852,
     "user": {
      "displayName": "JUAN ALEJANDRO GALVIS PACHECO",
      "photoUrl": "https://lh3.googleusercontent.com/a-/AOh14GjkiimzM3aQStztgJqp2zVYmPR9k6BlOYBAZvY70Q=s64",
      "userId": "15927991636568957671"
     }
    },
    "outputId": "63509605-de20-4ca0-dfbf-5ff9e3a94d01"
   },
   "source": [
    "for name, email in x.items():\n",
    "    print(name)\n",
    "    print(email)"
   ],
   "execution_count": null,
   "outputs": [
    {
     "output_type": "stream",
     "text": [
      "Christopher Brooks\n",
      "brooksch@umich.edu\n",
      "Bill Gates\n",
      "billg@microsoft.com\n",
      "Kevyn Collins-Thompson\n",
      "None\n"
     ],
     "name": "stdout"
    }
   ]
  },
  {
   "cell_type": "markdown",
   "metadata": {
    "id": "XQ9LINciZ-r-",
    "colab_type": "text"
   },
   "source": [
    "<br>\n",
    "You can unpack a sequence into different variables:"
   ]
  },
  {
   "cell_type": "code",
   "metadata": {
    "id": "CKaMkV7-Z-r-",
    "colab_type": "code",
    "colab": {}
   },
   "source": [
    "x = ('Christopher', 'Brooks', 'brooksch@umich.edu')\n",
    "fname, lname, email = x"
   ],
   "execution_count": null,
   "outputs": []
  },
  {
   "cell_type": "code",
   "metadata": {
    "id": "RRuaJLT6Z-sA",
    "colab_type": "code",
    "colab": {
     "base_uri": "https://localhost:8080/",
     "height": 35
    },
    "executionInfo": {
     "status": "ok",
     "timestamp": 1600704472618,
     "user_tz": 300,
     "elapsed": 1844,
     "user": {
      "displayName": "JUAN ALEJANDRO GALVIS PACHECO",
      "photoUrl": "https://lh3.googleusercontent.com/a-/AOh14GjkiimzM3aQStztgJqp2zVYmPR9k6BlOYBAZvY70Q=s64",
      "userId": "15927991636568957671"
     }
    },
    "outputId": "1adbbad4-cdee-41fc-c600-eadba10fa592"
   },
   "source": [
    "fname"
   ],
   "execution_count": null,
   "outputs": [
    {
     "output_type": "execute_result",
     "data": {
      "application/vnd.google.colaboratory.intrinsic+json": {
       "type": "string"
      },
      "text/plain": [
       "'Christopher'"
      ]
     },
     "metadata": {
      "tags": []
     },
     "execution_count": 37
    }
   ]
  },
  {
   "cell_type": "code",
   "metadata": {
    "id": "ZehlE0M4Z-sC",
    "colab_type": "code",
    "colab": {
     "base_uri": "https://localhost:8080/",
     "height": 35
    },
    "executionInfo": {
     "status": "ok",
     "timestamp": 1600704472618,
     "user_tz": 300,
     "elapsed": 1839,
     "user": {
      "displayName": "JUAN ALEJANDRO GALVIS PACHECO",
      "photoUrl": "https://lh3.googleusercontent.com/a-/AOh14GjkiimzM3aQStztgJqp2zVYmPR9k6BlOYBAZvY70Q=s64",
      "userId": "15927991636568957671"
     }
    },
    "outputId": "829804da-9cc6-4199-e48d-139639fdfade"
   },
   "source": [
    "lname"
   ],
   "execution_count": null,
   "outputs": [
    {
     "output_type": "execute_result",
     "data": {
      "application/vnd.google.colaboratory.intrinsic+json": {
       "type": "string"
      },
      "text/plain": [
       "'Brooks'"
      ]
     },
     "metadata": {
      "tags": []
     },
     "execution_count": 38
    }
   ]
  },
  {
   "cell_type": "markdown",
   "metadata": {
    "id": "mPhMkrLDZ-sE",
    "colab_type": "text"
   },
   "source": [
    "<br>\n",
    "Make sure the number of values you are unpacking matches the number of variables being assigned."
   ]
  },
  {
   "cell_type": "code",
   "metadata": {
    "id": "gwue1LjDZ-sE",
    "colab_type": "code",
    "colab": {
     "base_uri": "https://localhost:8080/",
     "height": 52
    },
    "executionInfo": {
     "status": "ok",
     "timestamp": 1600704515396,
     "user_tz": 300,
     "elapsed": 1159,
     "user": {
      "displayName": "JUAN ALEJANDRO GALVIS PACHECO",
      "photoUrl": "https://lh3.googleusercontent.com/a-/AOh14GjkiimzM3aQStztgJqp2zVYmPR9k6BlOYBAZvY70Q=s64",
      "userId": "15927991636568957671"
     }
    },
    "outputId": "0ddc949b-402a-4554-da23-50aebf647560"
   },
   "source": [
    "try:\n",
    "  x = ('Christopher', 'Brooks', 'brooksch@umich.edu', 'Ann Arbor')\n",
    "  fname, lname, email = x\n",
    "except Exception as e:\n",
    "    print(e.__repr__(), '\\n context: ', e.__context__.__repr__())\n"
   ],
   "execution_count": null,
   "outputs": [
    {
     "output_type": "stream",
     "text": [
      "ValueError('too many values to unpack (expected 3)',) \n",
      " context:  None\n"
     ],
     "name": "stdout"
    }
   ]
  },
  {
   "cell_type": "markdown",
   "metadata": {
    "id": "9EmiKQe-Z-sG",
    "colab_type": "text"
   },
   "source": [
    "# The Python Programming Language: More on Strings"
   ]
  },
  {
   "cell_type": "code",
   "metadata": {
    "id": "wvMW_vYHZ-sG",
    "colab_type": "code",
    "colab": {
     "base_uri": "https://localhost:8080/",
     "height": 52
    },
    "executionInfo": {
     "status": "ok",
     "timestamp": 1600704547630,
     "user_tz": 300,
     "elapsed": 976,
     "user": {
      "displayName": "JUAN ALEJANDRO GALVIS PACHECO",
      "photoUrl": "https://lh3.googleusercontent.com/a-/AOh14GjkiimzM3aQStztgJqp2zVYmPR9k6BlOYBAZvY70Q=s64",
      "userId": "15927991636568957671"
     }
    },
    "outputId": "7b5e46ea-77a8-4d5f-9018-3f6c0ec10335"
   },
   "source": [
    "try:\n",
    "  print('Chris' + 2)\n",
    "except Exception as e:\n",
    "    print(e.__repr__(), '\\n context: ', e.__context__.__repr__())\n"
   ],
   "execution_count": null,
   "outputs": [
    {
     "output_type": "stream",
     "text": [
      "TypeError('must be str, not int',) \n",
      " context:  None\n"
     ],
     "name": "stdout"
    }
   ]
  },
  {
   "cell_type": "code",
   "metadata": {
    "id": "fJIXtRIqZ-sJ",
    "colab_type": "code",
    "colab": {
     "base_uri": "https://localhost:8080/",
     "height": 34
    },
    "executionInfo": {
     "status": "ok",
     "timestamp": 1600704552452,
     "user_tz": 300,
     "elapsed": 1330,
     "user": {
      "displayName": "JUAN ALEJANDRO GALVIS PACHECO",
      "photoUrl": "https://lh3.googleusercontent.com/a-/AOh14GjkiimzM3aQStztgJqp2zVYmPR9k6BlOYBAZvY70Q=s64",
      "userId": "15927991636568957671"
     }
    },
    "outputId": "d67ca212-e2bc-4fa1-ae2e-1958d655da1c"
   },
   "source": [
    "print('Chris' + str(2))"
   ],
   "execution_count": null,
   "outputs": [
    {
     "output_type": "stream",
     "text": [
      "Chris2\n"
     ],
     "name": "stdout"
    }
   ]
  },
  {
   "cell_type": "markdown",
   "metadata": {
    "id": "6yNBCZdfZ-sK",
    "colab_type": "text"
   },
   "source": [
    "<br>\n",
    "Python has a built in method for convenient string formatting."
   ]
  },
  {
   "cell_type": "code",
   "metadata": {
    "id": "7YnwCTAjZ-sL",
    "colab_type": "code",
    "colab": {
     "base_uri": "https://localhost:8080/",
     "height": 34
    },
    "executionInfo": {
     "status": "ok",
     "timestamp": 1600704552453,
     "user_tz": 300,
     "elapsed": 1323,
     "user": {
      "displayName": "JUAN ALEJANDRO GALVIS PACHECO",
      "photoUrl": "https://lh3.googleusercontent.com/a-/AOh14GjkiimzM3aQStztgJqp2zVYmPR9k6BlOYBAZvY70Q=s64",
      "userId": "15927991636568957671"
     }
    },
    "outputId": "50031b2f-de73-4d93-9c7a-7bf5b43da053"
   },
   "source": [
    "sales_record = {\n",
    "'price': 3.24,\n",
    "'num_items': 4,\n",
    "'person': 'Chris'}\n",
    "\n",
    "sales_statement = '{} bought {} item(s) at a price of {} each for a total of {}'\n",
    "\n",
    "print(sales_statement.format(sales_record['person'],\n",
    "                             sales_record['num_items'],\n",
    "                             sales_record['price'],\n",
    "                             sales_record['num_items']*sales_record['price']))\n"
   ],
   "execution_count": null,
   "outputs": [
    {
     "output_type": "stream",
     "text": [
      "Chris bought 4 item(s) at a price of 3.24 each for a total of 12.96\n"
     ],
     "name": "stdout"
    }
   ]
  },
  {
   "cell_type": "markdown",
   "metadata": {
    "id": "cwctm89UZ-sN",
    "colab_type": "text"
   },
   "source": [
    "# Reading and Writing CSV files"
   ]
  },
  {
   "cell_type": "markdown",
   "metadata": {
    "id": "tIut3YjwZ-sN",
    "colab_type": "text"
   },
   "source": [
    "<br>\n",
    "Let's import our datafile mpg.csv, which contains fuel economy data for 234 cars.\n",
    "\n",
    "* mpg : miles per gallon\n",
    "* class : car classification\n",
    "* cty : city mpg\n",
    "* cyl : # of cylinders\n",
    "* displ : engine displacement in liters\n",
    "* drv : f = front-wheel drive, r = rear wheel drive, 4 = 4wd\n",
    "* fl : fuel (e = ethanol E85, d = diesel, r = regular, p = premium, c = CNG)\n",
    "* hwy : highway mpg\n",
    "* manufacturer : automobile manufacturer\n",
    "* model : model of car\n",
    "* trans : type of transmission\n",
    "* year : model year"
   ]
  },
  {
   "cell_type": "code",
   "metadata": {
    "scrolled": true,
    "id": "3BLbCQzwZ-sN",
    "colab_type": "code",
    "colab": {
     "base_uri": "https://localhost:8080/",
     "height": 656
    },
    "executionInfo": {
     "status": "ok",
     "timestamp": 1600704642669,
     "user_tz": 300,
     "elapsed": 2082,
     "user": {
      "displayName": "JUAN ALEJANDRO GALVIS PACHECO",
      "photoUrl": "https://lh3.googleusercontent.com/a-/AOh14GjkiimzM3aQStztgJqp2zVYmPR9k6BlOYBAZvY70Q=s64",
      "userId": "15927991636568957671"
     }
    },
    "outputId": "41fc0145-a195-4ffe-976b-8319e2537fe5"
   },
   "source": [
    "import csv\n",
    "\n",
    "%precision 2\n",
    "\n",
    "with open('../datasets/mpg.csv') as csvfile:\n",
    "    mpg = list(csv.DictReader(csvfile))\n",
    "    \n",
    "mpg[:3] # The first three dictionaries in our list."
   ],
   "execution_count": null,
   "outputs": [
    {
     "output_type": "execute_result",
     "data": {
      "text/plain": [
       "[OrderedDict([('', '1'),\n",
       "              ('manufacturer', 'audi'),\n",
       "              ('model', 'a4'),\n",
       "              ('displ', '1.8'),\n",
       "              ('year', '1999'),\n",
       "              ('cyl', '4'),\n",
       "              ('trans', 'auto(l5)'),\n",
       "              ('drv', 'f'),\n",
       "              ('cty', '18'),\n",
       "              ('hwy', '29'),\n",
       "              ('fl', 'p'),\n",
       "              ('class', 'compact')]),\n",
       " OrderedDict([('', '2'),\n",
       "              ('manufacturer', 'audi'),\n",
       "              ('model', 'a4'),\n",
       "              ('displ', '1.8'),\n",
       "              ('year', '1999'),\n",
       "              ('cyl', '4'),\n",
       "              ('trans', 'manual(m5)'),\n",
       "              ('drv', 'f'),\n",
       "              ('cty', '21'),\n",
       "              ('hwy', '29'),\n",
       "              ('fl', 'p'),\n",
       "              ('class', 'compact')]),\n",
       " OrderedDict([('', '3'),\n",
       "              ('manufacturer', 'audi'),\n",
       "              ('model', 'a4'),\n",
       "              ('displ', '2'),\n",
       "              ('year', '2008'),\n",
       "              ('cyl', '4'),\n",
       "              ('trans', 'manual(m6)'),\n",
       "              ('drv', 'f'),\n",
       "              ('cty', '20'),\n",
       "              ('hwy', '31'),\n",
       "              ('fl', 'p'),\n",
       "              ('class', 'compact')])]"
      ]
     },
     "metadata": {
      "tags": []
     },
     "execution_count": 49
    }
   ]
  },
  {
   "cell_type": "markdown",
   "metadata": {
    "id": "t3Sev4D7Z-sP",
    "colab_type": "text"
   },
   "source": [
    "<br>\n",
    "`csv.Dictreader` has read in each row of our csv file as a dictionary. `len` shows that our list is comprised of 234 dictionaries."
   ]
  },
  {
   "cell_type": "code",
   "metadata": {
    "id": "WBcivmheZ-sP",
    "colab_type": "code",
    "colab": {
     "base_uri": "https://localhost:8080/",
     "height": 34
    },
    "executionInfo": {
     "status": "ok",
     "timestamp": 1600704649451,
     "user_tz": 300,
     "elapsed": 940,
     "user": {
      "displayName": "JUAN ALEJANDRO GALVIS PACHECO",
      "photoUrl": "https://lh3.googleusercontent.com/a-/AOh14GjkiimzM3aQStztgJqp2zVYmPR9k6BlOYBAZvY70Q=s64",
      "userId": "15927991636568957671"
     }
    },
    "outputId": "63f5e943-c647-43a3-fd0c-b18ca4491e56"
   },
   "source": [
    "len(mpg)"
   ],
   "execution_count": null,
   "outputs": [
    {
     "output_type": "execute_result",
     "data": {
      "text/plain": [
       "234"
      ]
     },
     "metadata": {
      "tags": []
     },
     "execution_count": 50
    }
   ]
  },
  {
   "cell_type": "markdown",
   "metadata": {
    "id": "dL1-5-TcZ-sQ",
    "colab_type": "text"
   },
   "source": [
    "<br>\n",
    "`keys` gives us the column names of our csv."
   ]
  },
  {
   "cell_type": "code",
   "metadata": {
    "id": "Ld3eAeawZ-sR",
    "colab_type": "code",
    "colab": {
     "base_uri": "https://localhost:8080/",
     "height": 54
    },
    "executionInfo": {
     "status": "ok",
     "timestamp": 1600704649452,
     "user_tz": 300,
     "elapsed": 934,
     "user": {
      "displayName": "JUAN ALEJANDRO GALVIS PACHECO",
      "photoUrl": "https://lh3.googleusercontent.com/a-/AOh14GjkiimzM3aQStztgJqp2zVYmPR9k6BlOYBAZvY70Q=s64",
      "userId": "15927991636568957671"
     }
    },
    "outputId": "473f858c-e42f-41be-8e98-51e9aef3c1a0"
   },
   "source": [
    "mpg[0].keys()"
   ],
   "execution_count": null,
   "outputs": [
    {
     "output_type": "execute_result",
     "data": {
      "text/plain": [
       "odict_keys(['', 'manufacturer', 'model', 'displ', 'year', 'cyl', 'trans', 'drv', 'cty', 'hwy', 'fl', 'class'])"
      ]
     },
     "metadata": {
      "tags": []
     },
     "execution_count": 51
    }
   ]
  },
  {
   "cell_type": "markdown",
   "metadata": {
    "id": "U3l2r5zTZ-sU",
    "colab_type": "text"
   },
   "source": [
    "<br>\n",
    "This is how to find the average cty fuel economy across all cars. All values in the dictionaries are strings, so we need to convert to float."
   ]
  },
  {
   "cell_type": "code",
   "metadata": {
    "id": "d0o7Z0wgZ-sU",
    "colab_type": "code",
    "colab": {
     "base_uri": "https://localhost:8080/",
     "height": 34
    },
    "executionInfo": {
     "status": "ok",
     "timestamp": 1600704650090,
     "user_tz": 300,
     "elapsed": 1567,
     "user": {
      "displayName": "JUAN ALEJANDRO GALVIS PACHECO",
      "photoUrl": "https://lh3.googleusercontent.com/a-/AOh14GjkiimzM3aQStztgJqp2zVYmPR9k6BlOYBAZvY70Q=s64",
      "userId": "15927991636568957671"
     }
    },
    "outputId": "efb628ee-559a-47d5-bad5-a6f59ab50ccf"
   },
   "source": [
    "sum(float(d['cty']) for d in mpg) / len(mpg)"
   ],
   "execution_count": null,
   "outputs": [
    {
     "output_type": "execute_result",
     "data": {
      "text/plain": [
       "16.86"
      ]
     },
     "metadata": {
      "tags": []
     },
     "execution_count": 52
    }
   ]
  },
  {
   "cell_type": "markdown",
   "metadata": {
    "id": "DzQLRMgGZ-sW",
    "colab_type": "text"
   },
   "source": [
    "<br>\n",
    "Similarly this is how to find the average hwy fuel economy across all cars."
   ]
  },
  {
   "cell_type": "code",
   "metadata": {
    "id": "e6NTv8F8Z-sW",
    "colab_type": "code",
    "colab": {
     "base_uri": "https://localhost:8080/",
     "height": 34
    },
    "executionInfo": {
     "status": "ok",
     "timestamp": 1600704650091,
     "user_tz": 300,
     "elapsed": 1563,
     "user": {
      "displayName": "JUAN ALEJANDRO GALVIS PACHECO",
      "photoUrl": "https://lh3.googleusercontent.com/a-/AOh14GjkiimzM3aQStztgJqp2zVYmPR9k6BlOYBAZvY70Q=s64",
      "userId": "15927991636568957671"
     }
    },
    "outputId": "c92e2f2a-3936-415d-80f7-62edbda6fbe8"
   },
   "source": [
    "sum(float(d['hwy']) for d in mpg) / len(mpg)"
   ],
   "execution_count": null,
   "outputs": [
    {
     "output_type": "execute_result",
     "data": {
      "text/plain": [
       "23.44"
      ]
     },
     "metadata": {
      "tags": []
     },
     "execution_count": 53
    }
   ]
  },
  {
   "cell_type": "markdown",
   "metadata": {
    "id": "PPM5nl6MZ-sY",
    "colab_type": "text"
   },
   "source": [
    "<br>\n",
    "Use `set` to return the unique values for the number of cylinders the cars in our dataset have."
   ]
  },
  {
   "cell_type": "code",
   "metadata": {
    "id": "veFYuy-sZ-sY",
    "colab_type": "code",
    "colab": {
     "base_uri": "https://localhost:8080/",
     "height": 34
    },
    "executionInfo": {
     "status": "ok",
     "timestamp": 1600704650092,
     "user_tz": 300,
     "elapsed": 1560,
     "user": {
      "displayName": "JUAN ALEJANDRO GALVIS PACHECO",
      "photoUrl": "https://lh3.googleusercontent.com/a-/AOh14GjkiimzM3aQStztgJqp2zVYmPR9k6BlOYBAZvY70Q=s64",
      "userId": "15927991636568957671"
     }
    },
    "outputId": "824e3ee5-4a51-4c0e-9e8d-0c0d06dc3175"
   },
   "source": [
    "cylinders = set(d['cyl'] for d in mpg)\n",
    "cylinders"
   ],
   "execution_count": null,
   "outputs": [
    {
     "output_type": "execute_result",
     "data": {
      "text/plain": [
       "{'4', '5', '6', '8'}"
      ]
     },
     "metadata": {
      "tags": []
     },
     "execution_count": 54
    }
   ]
  },
  {
   "cell_type": "markdown",
   "metadata": {
    "id": "FlVMdqQqZ-sa",
    "colab_type": "text"
   },
   "source": [
    "<br>\n",
    "Here's a more complex example where we are grouping the cars by number of cylinder, and finding the average cty mpg for each group."
   ]
  },
  {
   "cell_type": "code",
   "metadata": {
    "id": "sYoy5KjNZ-sb",
    "colab_type": "code",
    "colab": {
     "base_uri": "https://localhost:8080/",
     "height": 34
    },
    "executionInfo": {
     "status": "ok",
     "timestamp": 1600704650092,
     "user_tz": 300,
     "elapsed": 1555,
     "user": {
      "displayName": "JUAN ALEJANDRO GALVIS PACHECO",
      "photoUrl": "https://lh3.googleusercontent.com/a-/AOh14GjkiimzM3aQStztgJqp2zVYmPR9k6BlOYBAZvY70Q=s64",
      "userId": "15927991636568957671"
     }
    },
    "outputId": "cdca7671-d152-4f88-9142-8f686100ba29"
   },
   "source": [
    "CtyMpgByCyl = []\n",
    "\n",
    "for c in cylinders: # iterate over all the cylinder levels\n",
    "    summpg = 0\n",
    "    cyltypecount = 0\n",
    "    for d in mpg: # iterate over all dictionaries\n",
    "        if d['cyl'] == c: # if the cylinder level type matches,\n",
    "            summpg += float(d['cty']) # add the cty mpg\n",
    "            cyltypecount += 1 # increment the count\n",
    "    CtyMpgByCyl.append((c, summpg / cyltypecount)) # append the tuple ('cylinder', 'avg mpg')\n",
    "\n",
    "CtyMpgByCyl.sort(key=lambda x: x[0])\n",
    "CtyMpgByCyl"
   ],
   "execution_count": null,
   "outputs": [
    {
     "output_type": "execute_result",
     "data": {
      "text/plain": [
       "[('4', 21.01), ('5', 20.50), ('6', 16.22), ('8', 12.57)]"
      ]
     },
     "metadata": {
      "tags": []
     },
     "execution_count": 55
    }
   ]
  },
  {
   "cell_type": "markdown",
   "metadata": {
    "id": "5S2BZqPqZ-sc",
    "colab_type": "text"
   },
   "source": [
    "<br>\n",
    "Use `set` to return the unique values for the class types in our dataset."
   ]
  },
  {
   "cell_type": "code",
   "metadata": {
    "id": "qT31H8YYZ-sc",
    "colab_type": "code",
    "colab": {
     "base_uri": "https://localhost:8080/",
     "height": 34
    },
    "executionInfo": {
     "status": "ok",
     "timestamp": 1600704650093,
     "user_tz": 300,
     "elapsed": 1551,
     "user": {
      "displayName": "JUAN ALEJANDRO GALVIS PACHECO",
      "photoUrl": "https://lh3.googleusercontent.com/a-/AOh14GjkiimzM3aQStztgJqp2zVYmPR9k6BlOYBAZvY70Q=s64",
      "userId": "15927991636568957671"
     }
    },
    "outputId": "eeeb60bf-55a3-40a1-f555-0694289c4636"
   },
   "source": [
    "vehicleclass = set(d['class'] for d in mpg) # what are the class types\n",
    "vehicleclass"
   ],
   "execution_count": null,
   "outputs": [
    {
     "output_type": "execute_result",
     "data": {
      "text/plain": [
       "{'2seater', 'compact', 'midsize', 'minivan', 'pickup', 'subcompact', 'suv'}"
      ]
     },
     "metadata": {
      "tags": []
     },
     "execution_count": 56
    }
   ]
  },
  {
   "cell_type": "markdown",
   "metadata": {
    "id": "LetqOfzNZ-se",
    "colab_type": "text"
   },
   "source": [
    "<br>\n",
    "And here's an example of how to find the average hwy mpg for each class of vehicle in our dataset."
   ]
  },
  {
   "cell_type": "code",
   "metadata": {
    "id": "L_HiKFVxZ-se",
    "colab_type": "code",
    "colab": {
     "base_uri": "https://localhost:8080/",
     "height": 141
    },
    "executionInfo": {
     "status": "ok",
     "timestamp": 1600704650093,
     "user_tz": 300,
     "elapsed": 1546,
     "user": {
      "displayName": "JUAN ALEJANDRO GALVIS PACHECO",
      "photoUrl": "https://lh3.googleusercontent.com/a-/AOh14GjkiimzM3aQStztgJqp2zVYmPR9k6BlOYBAZvY70Q=s64",
      "userId": "15927991636568957671"
     }
    },
    "outputId": "cf0573ef-a6dd-41c3-e8ea-39a90a5f80c3"
   },
   "source": [
    "HwyMpgByClass = []\n",
    "\n",
    "for t in vehicleclass: # iterate over all the vehicle classes\n",
    "    summpg = 0\n",
    "    vclasscount = 0\n",
    "    for d in mpg: # iterate over all dictionaries\n",
    "        if d['class'] == t: # if the cylinder amount type matches,\n",
    "            summpg += float(d['hwy']) # add the hwy mpg\n",
    "            vclasscount += 1 # increment the count\n",
    "    HwyMpgByClass.append((t, summpg / vclasscount)) # append the tuple ('class', 'avg mpg')\n",
    "\n",
    "HwyMpgByClass.sort(key=lambda x: x[1])\n",
    "HwyMpgByClass"
   ],
   "execution_count": null,
   "outputs": [
    {
     "output_type": "execute_result",
     "data": {
      "text/plain": [
       "[('pickup', 16.88),\n",
       " ('suv', 18.13),\n",
       " ('minivan', 22.36),\n",
       " ('2seater', 24.80),\n",
       " ('midsize', 27.29),\n",
       " ('subcompact', 28.14),\n",
       " ('compact', 28.30)]"
      ]
     },
     "metadata": {
      "tags": []
     },
     "execution_count": 57
    }
   ]
  },
  {
   "cell_type": "markdown",
   "metadata": {
    "id": "6IXTRt7mZ-sf",
    "colab_type": "text"
   },
   "source": [
    "# The Python Programming Language: Dates and Times"
   ]
  },
  {
   "cell_type": "code",
   "metadata": {
    "id": "6qXw83ScZ-sf",
    "colab_type": "code",
    "colab": {}
   },
   "source": [
    "import datetime as dt\n",
    "import time as tm"
   ],
   "execution_count": null,
   "outputs": []
  },
  {
   "cell_type": "markdown",
   "metadata": {
    "id": "89Pio47zZ-sg",
    "colab_type": "text"
   },
   "source": [
    "<br>\n",
    "`time` returns the current time in seconds since the Epoch. (January 1st, 1970)"
   ]
  },
  {
   "cell_type": "code",
   "metadata": {
    "id": "Bn-srnWZZ-sh",
    "colab_type": "code",
    "colab": {
     "base_uri": "https://localhost:8080/"
    },
    "executionInfo": {
     "status": "ok",
     "timestamp": 1600704650094,
     "user_tz": 300,
     "elapsed": 1537,
     "user": {
      "displayName": "JUAN ALEJANDRO GALVIS PACHECO",
      "photoUrl": "https://lh3.googleusercontent.com/a-/AOh14GjkiimzM3aQStztgJqp2zVYmPR9k6BlOYBAZvY70Q=s64",
      "userId": "15927991636568957671"
     }
    },
    "outputId": "634872a7-0923-4cd1-de71-83c6431779d5"
   },
   "source": [
    "tm.time()"
   ],
   "execution_count": null,
   "outputs": [
    {
     "output_type": "execute_result",
     "data": {
      "text/plain": [
       "1600704649.39"
      ]
     },
     "metadata": {
      "tags": []
     },
     "execution_count": 59
    }
   ]
  },
  {
   "cell_type": "markdown",
   "metadata": {
    "id": "97SsTTc6Z-si",
    "colab_type": "text"
   },
   "source": [
    "<br>\n",
    "Convert the timestamp to datetime."
   ]
  },
  {
   "cell_type": "code",
   "metadata": {
    "id": "Jy2-cGT_Z-si",
    "colab_type": "code",
    "colab": {
     "base_uri": "https://localhost:8080/"
    },
    "executionInfo": {
     "status": "ok",
     "timestamp": 1600704650095,
     "user_tz": 300,
     "elapsed": 1533,
     "user": {
      "displayName": "JUAN ALEJANDRO GALVIS PACHECO",
      "photoUrl": "https://lh3.googleusercontent.com/a-/AOh14GjkiimzM3aQStztgJqp2zVYmPR9k6BlOYBAZvY70Q=s64",
      "userId": "15927991636568957671"
     }
    },
    "outputId": "cfbf409d-8973-451c-ff46-7403ca848ba6"
   },
   "source": [
    "dtnow = dt.datetime.fromtimestamp(tm.time())\n",
    "dtnow"
   ],
   "execution_count": null,
   "outputs": [
    {
     "output_type": "execute_result",
     "data": {
      "text/plain": [
       "datetime.datetime(2020, 9, 21, 16, 10, 49, 402624)"
      ]
     },
     "metadata": {
      "tags": []
     },
     "execution_count": 60
    }
   ]
  },
  {
   "cell_type": "markdown",
   "metadata": {
    "id": "gl9GwJPFZ-sk",
    "colab_type": "text"
   },
   "source": [
    "<br>\n",
    "Handy datetime attributes:"
   ]
  },
  {
   "cell_type": "code",
   "metadata": {
    "id": "tfNt2ZwzZ-sk",
    "colab_type": "code",
    "colab": {
     "base_uri": "https://localhost:8080/"
    },
    "executionInfo": {
     "status": "ok",
     "timestamp": 1600704650095,
     "user_tz": 300,
     "elapsed": 1527,
     "user": {
      "displayName": "JUAN ALEJANDRO GALVIS PACHECO",
      "photoUrl": "https://lh3.googleusercontent.com/a-/AOh14GjkiimzM3aQStztgJqp2zVYmPR9k6BlOYBAZvY70Q=s64",
      "userId": "15927991636568957671"
     }
    },
    "outputId": "bd77367b-73a5-4ce9-a248-2039797bfa96"
   },
   "source": [
    "dtnow.year, dtnow.month, dtnow.day, dtnow.hour, dtnow.minute, dtnow.second # get year, month, day, etc.from a datetime"
   ],
   "execution_count": null,
   "outputs": [
    {
     "output_type": "execute_result",
     "data": {
      "text/plain": [
       "(2020, 9, 21, 16, 10, 49)"
      ]
     },
     "metadata": {
      "tags": []
     },
     "execution_count": 61
    }
   ]
  },
  {
   "cell_type": "markdown",
   "metadata": {
    "id": "JLNFfVn9Z-sl",
    "colab_type": "text"
   },
   "source": [
    "<br>\n",
    "`timedelta` is a duration expressing the difference between two dates."
   ]
  },
  {
   "cell_type": "code",
   "metadata": {
    "id": "OB6FbXPWZ-sl",
    "colab_type": "code",
    "colab": {
     "base_uri": "https://localhost:8080/"
    },
    "executionInfo": {
     "status": "ok",
     "timestamp": 1600704650096,
     "user_tz": 300,
     "elapsed": 1521,
     "user": {
      "displayName": "JUAN ALEJANDRO GALVIS PACHECO",
      "photoUrl": "https://lh3.googleusercontent.com/a-/AOh14GjkiimzM3aQStztgJqp2zVYmPR9k6BlOYBAZvY70Q=s64",
      "userId": "15927991636568957671"
     }
    },
    "outputId": "1f68ce28-4275-43cf-9fa3-0da9c4b58d63"
   },
   "source": [
    "delta = dt.timedelta(days = 100) # create a timedelta of 100 days\n",
    "delta"
   ],
   "execution_count": null,
   "outputs": [
    {
     "output_type": "execute_result",
     "data": {
      "text/plain": [
       "datetime.timedelta(100)"
      ]
     },
     "metadata": {
      "tags": []
     },
     "execution_count": 62
    }
   ]
  },
  {
   "cell_type": "markdown",
   "metadata": {
    "id": "A7k6ipa6Z-sn",
    "colab_type": "text"
   },
   "source": [
    "<br>\n",
    "`date.today` returns the current local date."
   ]
  },
  {
   "cell_type": "code",
   "metadata": {
    "id": "XCXxPD39Z-sn",
    "colab_type": "code",
    "colab": {}
   },
   "source": [
    "today = dt.date.today()"
   ],
   "execution_count": null,
   "outputs": []
  },
  {
   "cell_type": "code",
   "metadata": {
    "id": "sxpLHfCzZ-so",
    "colab_type": "code",
    "colab": {
     "base_uri": "https://localhost:8080/"
    },
    "executionInfo": {
     "status": "ok",
     "timestamp": 1600704650098,
     "user_tz": 300,
     "elapsed": 1512,
     "user": {
      "displayName": "JUAN ALEJANDRO GALVIS PACHECO",
      "photoUrl": "https://lh3.googleusercontent.com/a-/AOh14GjkiimzM3aQStztgJqp2zVYmPR9k6BlOYBAZvY70Q=s64",
      "userId": "15927991636568957671"
     }
    },
    "outputId": "6999c0fd-8fad-4ca5-fac1-d7f6ccfa8b0e"
   },
   "source": [
    "today - delta # the date 100 days ago"
   ],
   "execution_count": null,
   "outputs": [
    {
     "output_type": "execute_result",
     "data": {
      "text/plain": [
       "datetime.date(2020, 6, 13)"
      ]
     },
     "metadata": {
      "tags": []
     },
     "execution_count": 64
    }
   ]
  },
  {
   "cell_type": "code",
   "metadata": {
    "id": "AsMBmhfPZ-sp",
    "colab_type": "code",
    "colab": {
     "base_uri": "https://localhost:8080/"
    },
    "executionInfo": {
     "status": "ok",
     "timestamp": 1600704650098,
     "user_tz": 300,
     "elapsed": 1507,
     "user": {
      "displayName": "JUAN ALEJANDRO GALVIS PACHECO",
      "photoUrl": "https://lh3.googleusercontent.com/a-/AOh14GjkiimzM3aQStztgJqp2zVYmPR9k6BlOYBAZvY70Q=s64",
      "userId": "15927991636568957671"
     }
    },
    "outputId": "8724c4ff-8339-47dd-af70-1232eff547ff"
   },
   "source": [
    "today > today-delta # compare dates"
   ],
   "execution_count": null,
   "outputs": [
    {
     "output_type": "execute_result",
     "data": {
      "text/plain": [
       "True"
      ]
     },
     "metadata": {
      "tags": []
     },
     "execution_count": 65
    }
   ]
  },
  {
   "cell_type": "markdown",
   "metadata": {
    "id": "ZiA1vpGvZ-sq",
    "colab_type": "text"
   },
   "source": [
    "# The Python Programming Language: Objects and map()"
   ]
  },
  {
   "cell_type": "markdown",
   "metadata": {
    "id": "cNw1-h-7Z-sr",
    "colab_type": "text"
   },
   "source": [
    "<br>\n",
    "An example of a class in python:"
   ]
  },
  {
   "cell_type": "code",
   "metadata": {
    "id": "hF4z2zshZ-sr",
    "colab_type": "code",
    "colab": {}
   },
   "source": [
    "class Person:\n",
    "    department = 'School of Information' #a class variable\n",
    "\n",
    "    def set_name(self, new_name): #a method\n",
    "        self.name = new_name\n",
    "    def set_location(self, new_location):\n",
    "        self.location = new_location"
   ],
   "execution_count": null,
   "outputs": []
  },
  {
   "cell_type": "code",
   "metadata": {
    "id": "J2yy1U94Z-ss",
    "colab_type": "code",
    "colab": {
     "base_uri": "https://localhost:8080/"
    },
    "executionInfo": {
     "status": "ok",
     "timestamp": 1600704650099,
     "user_tz": 300,
     "elapsed": 1497,
     "user": {
      "displayName": "JUAN ALEJANDRO GALVIS PACHECO",
      "photoUrl": "https://lh3.googleusercontent.com/a-/AOh14GjkiimzM3aQStztgJqp2zVYmPR9k6BlOYBAZvY70Q=s64",
      "userId": "15927991636568957671"
     }
    },
    "outputId": "b66033eb-ee98-4e00-8734-6dc9da5aa5a3"
   },
   "source": [
    "person = Person()\n",
    "person.set_name('Christopher Brooks')\n",
    "person.set_location('Ann Arbor, MI, USA')\n",
    "print('{} live in {} and works in the department {}'.format(person.name, person.location, person.department))"
   ],
   "execution_count": null,
   "outputs": [
    {
     "output_type": "stream",
     "text": [
      "Christopher Brooks live in Ann Arbor, MI, USA and works in the department School of Information\n"
     ],
     "name": "stdout"
    }
   ]
  },
  {
   "cell_type": "markdown",
   "metadata": {
    "id": "kpVZWbQYZ-st",
    "colab_type": "text"
   },
   "source": [
    "<br>\n",
    "Here's an example of mapping the `min` function between two lists."
   ]
  },
  {
   "cell_type": "code",
   "metadata": {
    "id": "Sz2-Pfs3Z-st",
    "colab_type": "code",
    "colab": {
     "base_uri": "https://localhost:8080/"
    },
    "executionInfo": {
     "status": "ok",
     "timestamp": 1600704650100,
     "user_tz": 300,
     "elapsed": 1493,
     "user": {
      "displayName": "JUAN ALEJANDRO GALVIS PACHECO",
      "photoUrl": "https://lh3.googleusercontent.com/a-/AOh14GjkiimzM3aQStztgJqp2zVYmPR9k6BlOYBAZvY70Q=s64",
      "userId": "15927991636568957671"
     }
    },
    "outputId": "5ac45c10-dd9f-42ab-e349-9d11b817935e"
   },
   "source": [
    "store1 = [10.00, 11.00, 12.34, 2.34]\n",
    "store2 = [9.00, 11.10, 12.34, 2.01]\n",
    "cheapest = map(min, store1, store2)\n",
    "cheapest"
   ],
   "execution_count": null,
   "outputs": [
    {
     "output_type": "execute_result",
     "data": {
      "text/plain": [
       "<map at 0x7f08845a7b70>"
      ]
     },
     "metadata": {
      "tags": []
     },
     "execution_count": 68
    }
   ]
  },
  {
   "cell_type": "markdown",
   "metadata": {
    "id": "t6WtOwOBZ-su",
    "colab_type": "text"
   },
   "source": [
    "<br>\n",
    "Now let's iterate through the map object to see the values."
   ]
  },
  {
   "cell_type": "code",
   "metadata": {
    "scrolled": true,
    "id": "do-579_sZ-su",
    "colab_type": "code",
    "colab": {
     "base_uri": "https://localhost:8080/"
    },
    "executionInfo": {
     "status": "ok",
     "timestamp": 1600704650100,
     "user_tz": 300,
     "elapsed": 1487,
     "user": {
      "displayName": "JUAN ALEJANDRO GALVIS PACHECO",
      "photoUrl": "https://lh3.googleusercontent.com/a-/AOh14GjkiimzM3aQStztgJqp2zVYmPR9k6BlOYBAZvY70Q=s64",
      "userId": "15927991636568957671"
     }
    },
    "outputId": "2b2e06f2-d720-4501-bcfe-926c8563a7d7"
   },
   "source": [
    "for item in cheapest:\n",
    "    print(item)"
   ],
   "execution_count": null,
   "outputs": [
    {
     "output_type": "stream",
     "text": [
      "9.0\n",
      "11.0\n",
      "12.34\n",
      "2.01\n"
     ],
     "name": "stdout"
    }
   ]
  },
  {
   "cell_type": "markdown",
   "metadata": {
    "id": "sWpKFRSoZ-sv",
    "colab_type": "text"
   },
   "source": [
    "# The Python Programming Language: Lambda and List Comprehensions"
   ]
  },
  {
   "cell_type": "markdown",
   "metadata": {
    "id": "TLrvYOEEZ-sw",
    "colab_type": "text"
   },
   "source": [
    "<br>\n",
    "Here's an example of lambda that takes in three parameters and adds the first two."
   ]
  },
  {
   "cell_type": "code",
   "metadata": {
    "id": "CmY4GzXJZ-sx",
    "colab_type": "code",
    "colab": {}
   },
   "source": [
    "my_function = lambda a, b, c : a + b"
   ],
   "execution_count": null,
   "outputs": []
  },
  {
   "cell_type": "code",
   "metadata": {
    "id": "gXsfAwfuZ-sy",
    "colab_type": "code",
    "colab": {
     "base_uri": "https://localhost:8080/"
    },
    "executionInfo": {
     "status": "ok",
     "timestamp": 1600704650101,
     "user_tz": 300,
     "elapsed": 1477,
     "user": {
      "displayName": "JUAN ALEJANDRO GALVIS PACHECO",
      "photoUrl": "https://lh3.googleusercontent.com/a-/AOh14GjkiimzM3aQStztgJqp2zVYmPR9k6BlOYBAZvY70Q=s64",
      "userId": "15927991636568957671"
     }
    },
    "outputId": "a2ed8be1-d6fd-4218-e824-bee8875a77fd"
   },
   "source": [
    "my_function(1, 2, 3)"
   ],
   "execution_count": null,
   "outputs": [
    {
     "output_type": "execute_result",
     "data": {
      "text/plain": [
       "3"
      ]
     },
     "metadata": {
      "tags": []
     },
     "execution_count": 71
    }
   ]
  },
  {
   "cell_type": "markdown",
   "metadata": {
    "id": "WPk_xRbZZ-sz",
    "colab_type": "text"
   },
   "source": [
    "<br>\n",
    "Let's iterate from 0 to 999 and return the even numbers."
   ]
  },
  {
   "cell_type": "code",
   "metadata": {
    "id": "iQCO7FM4Z-sz",
    "colab_type": "code",
    "colab": {
     "base_uri": "https://localhost:8080/"
    },
    "executionInfo": {
     "status": "ok",
     "timestamp": 1600704650102,
     "user_tz": 300,
     "elapsed": 1472,
     "user": {
      "displayName": "JUAN ALEJANDRO GALVIS PACHECO",
      "photoUrl": "https://lh3.googleusercontent.com/a-/AOh14GjkiimzM3aQStztgJqp2zVYmPR9k6BlOYBAZvY70Q=s64",
      "userId": "15927991636568957671"
     }
    },
    "outputId": "4dfb2858-3126-464a-de2a-0fa9669bef6d"
   },
   "source": [
    "my_list = []\n",
    "for number in range(0, 1000):\n",
    "    if number % 2 == 0:\n",
    "        my_list.append(number)\n",
    "my_list"
   ],
   "execution_count": null,
   "outputs": [
    {
     "output_type": "execute_result",
     "data": {
      "text/plain": [
       "[0,\n",
       " 2,\n",
       " 4,\n",
       " 6,\n",
       " 8,\n",
       " 10,\n",
       " 12,\n",
       " 14,\n",
       " 16,\n",
       " 18,\n",
       " 20,\n",
       " 22,\n",
       " 24,\n",
       " 26,\n",
       " 28,\n",
       " 30,\n",
       " 32,\n",
       " 34,\n",
       " 36,\n",
       " 38,\n",
       " 40,\n",
       " 42,\n",
       " 44,\n",
       " 46,\n",
       " 48,\n",
       " 50,\n",
       " 52,\n",
       " 54,\n",
       " 56,\n",
       " 58,\n",
       " 60,\n",
       " 62,\n",
       " 64,\n",
       " 66,\n",
       " 68,\n",
       " 70,\n",
       " 72,\n",
       " 74,\n",
       " 76,\n",
       " 78,\n",
       " 80,\n",
       " 82,\n",
       " 84,\n",
       " 86,\n",
       " 88,\n",
       " 90,\n",
       " 92,\n",
       " 94,\n",
       " 96,\n",
       " 98,\n",
       " 100,\n",
       " 102,\n",
       " 104,\n",
       " 106,\n",
       " 108,\n",
       " 110,\n",
       " 112,\n",
       " 114,\n",
       " 116,\n",
       " 118,\n",
       " 120,\n",
       " 122,\n",
       " 124,\n",
       " 126,\n",
       " 128,\n",
       " 130,\n",
       " 132,\n",
       " 134,\n",
       " 136,\n",
       " 138,\n",
       " 140,\n",
       " 142,\n",
       " 144,\n",
       " 146,\n",
       " 148,\n",
       " 150,\n",
       " 152,\n",
       " 154,\n",
       " 156,\n",
       " 158,\n",
       " 160,\n",
       " 162,\n",
       " 164,\n",
       " 166,\n",
       " 168,\n",
       " 170,\n",
       " 172,\n",
       " 174,\n",
       " 176,\n",
       " 178,\n",
       " 180,\n",
       " 182,\n",
       " 184,\n",
       " 186,\n",
       " 188,\n",
       " 190,\n",
       " 192,\n",
       " 194,\n",
       " 196,\n",
       " 198,\n",
       " 200,\n",
       " 202,\n",
       " 204,\n",
       " 206,\n",
       " 208,\n",
       " 210,\n",
       " 212,\n",
       " 214,\n",
       " 216,\n",
       " 218,\n",
       " 220,\n",
       " 222,\n",
       " 224,\n",
       " 226,\n",
       " 228,\n",
       " 230,\n",
       " 232,\n",
       " 234,\n",
       " 236,\n",
       " 238,\n",
       " 240,\n",
       " 242,\n",
       " 244,\n",
       " 246,\n",
       " 248,\n",
       " 250,\n",
       " 252,\n",
       " 254,\n",
       " 256,\n",
       " 258,\n",
       " 260,\n",
       " 262,\n",
       " 264,\n",
       " 266,\n",
       " 268,\n",
       " 270,\n",
       " 272,\n",
       " 274,\n",
       " 276,\n",
       " 278,\n",
       " 280,\n",
       " 282,\n",
       " 284,\n",
       " 286,\n",
       " 288,\n",
       " 290,\n",
       " 292,\n",
       " 294,\n",
       " 296,\n",
       " 298,\n",
       " 300,\n",
       " 302,\n",
       " 304,\n",
       " 306,\n",
       " 308,\n",
       " 310,\n",
       " 312,\n",
       " 314,\n",
       " 316,\n",
       " 318,\n",
       " 320,\n",
       " 322,\n",
       " 324,\n",
       " 326,\n",
       " 328,\n",
       " 330,\n",
       " 332,\n",
       " 334,\n",
       " 336,\n",
       " 338,\n",
       " 340,\n",
       " 342,\n",
       " 344,\n",
       " 346,\n",
       " 348,\n",
       " 350,\n",
       " 352,\n",
       " 354,\n",
       " 356,\n",
       " 358,\n",
       " 360,\n",
       " 362,\n",
       " 364,\n",
       " 366,\n",
       " 368,\n",
       " 370,\n",
       " 372,\n",
       " 374,\n",
       " 376,\n",
       " 378,\n",
       " 380,\n",
       " 382,\n",
       " 384,\n",
       " 386,\n",
       " 388,\n",
       " 390,\n",
       " 392,\n",
       " 394,\n",
       " 396,\n",
       " 398,\n",
       " 400,\n",
       " 402,\n",
       " 404,\n",
       " 406,\n",
       " 408,\n",
       " 410,\n",
       " 412,\n",
       " 414,\n",
       " 416,\n",
       " 418,\n",
       " 420,\n",
       " 422,\n",
       " 424,\n",
       " 426,\n",
       " 428,\n",
       " 430,\n",
       " 432,\n",
       " 434,\n",
       " 436,\n",
       " 438,\n",
       " 440,\n",
       " 442,\n",
       " 444,\n",
       " 446,\n",
       " 448,\n",
       " 450,\n",
       " 452,\n",
       " 454,\n",
       " 456,\n",
       " 458,\n",
       " 460,\n",
       " 462,\n",
       " 464,\n",
       " 466,\n",
       " 468,\n",
       " 470,\n",
       " 472,\n",
       " 474,\n",
       " 476,\n",
       " 478,\n",
       " 480,\n",
       " 482,\n",
       " 484,\n",
       " 486,\n",
       " 488,\n",
       " 490,\n",
       " 492,\n",
       " 494,\n",
       " 496,\n",
       " 498,\n",
       " 500,\n",
       " 502,\n",
       " 504,\n",
       " 506,\n",
       " 508,\n",
       " 510,\n",
       " 512,\n",
       " 514,\n",
       " 516,\n",
       " 518,\n",
       " 520,\n",
       " 522,\n",
       " 524,\n",
       " 526,\n",
       " 528,\n",
       " 530,\n",
       " 532,\n",
       " 534,\n",
       " 536,\n",
       " 538,\n",
       " 540,\n",
       " 542,\n",
       " 544,\n",
       " 546,\n",
       " 548,\n",
       " 550,\n",
       " 552,\n",
       " 554,\n",
       " 556,\n",
       " 558,\n",
       " 560,\n",
       " 562,\n",
       " 564,\n",
       " 566,\n",
       " 568,\n",
       " 570,\n",
       " 572,\n",
       " 574,\n",
       " 576,\n",
       " 578,\n",
       " 580,\n",
       " 582,\n",
       " 584,\n",
       " 586,\n",
       " 588,\n",
       " 590,\n",
       " 592,\n",
       " 594,\n",
       " 596,\n",
       " 598,\n",
       " 600,\n",
       " 602,\n",
       " 604,\n",
       " 606,\n",
       " 608,\n",
       " 610,\n",
       " 612,\n",
       " 614,\n",
       " 616,\n",
       " 618,\n",
       " 620,\n",
       " 622,\n",
       " 624,\n",
       " 626,\n",
       " 628,\n",
       " 630,\n",
       " 632,\n",
       " 634,\n",
       " 636,\n",
       " 638,\n",
       " 640,\n",
       " 642,\n",
       " 644,\n",
       " 646,\n",
       " 648,\n",
       " 650,\n",
       " 652,\n",
       " 654,\n",
       " 656,\n",
       " 658,\n",
       " 660,\n",
       " 662,\n",
       " 664,\n",
       " 666,\n",
       " 668,\n",
       " 670,\n",
       " 672,\n",
       " 674,\n",
       " 676,\n",
       " 678,\n",
       " 680,\n",
       " 682,\n",
       " 684,\n",
       " 686,\n",
       " 688,\n",
       " 690,\n",
       " 692,\n",
       " 694,\n",
       " 696,\n",
       " 698,\n",
       " 700,\n",
       " 702,\n",
       " 704,\n",
       " 706,\n",
       " 708,\n",
       " 710,\n",
       " 712,\n",
       " 714,\n",
       " 716,\n",
       " 718,\n",
       " 720,\n",
       " 722,\n",
       " 724,\n",
       " 726,\n",
       " 728,\n",
       " 730,\n",
       " 732,\n",
       " 734,\n",
       " 736,\n",
       " 738,\n",
       " 740,\n",
       " 742,\n",
       " 744,\n",
       " 746,\n",
       " 748,\n",
       " 750,\n",
       " 752,\n",
       " 754,\n",
       " 756,\n",
       " 758,\n",
       " 760,\n",
       " 762,\n",
       " 764,\n",
       " 766,\n",
       " 768,\n",
       " 770,\n",
       " 772,\n",
       " 774,\n",
       " 776,\n",
       " 778,\n",
       " 780,\n",
       " 782,\n",
       " 784,\n",
       " 786,\n",
       " 788,\n",
       " 790,\n",
       " 792,\n",
       " 794,\n",
       " 796,\n",
       " 798,\n",
       " 800,\n",
       " 802,\n",
       " 804,\n",
       " 806,\n",
       " 808,\n",
       " 810,\n",
       " 812,\n",
       " 814,\n",
       " 816,\n",
       " 818,\n",
       " 820,\n",
       " 822,\n",
       " 824,\n",
       " 826,\n",
       " 828,\n",
       " 830,\n",
       " 832,\n",
       " 834,\n",
       " 836,\n",
       " 838,\n",
       " 840,\n",
       " 842,\n",
       " 844,\n",
       " 846,\n",
       " 848,\n",
       " 850,\n",
       " 852,\n",
       " 854,\n",
       " 856,\n",
       " 858,\n",
       " 860,\n",
       " 862,\n",
       " 864,\n",
       " 866,\n",
       " 868,\n",
       " 870,\n",
       " 872,\n",
       " 874,\n",
       " 876,\n",
       " 878,\n",
       " 880,\n",
       " 882,\n",
       " 884,\n",
       " 886,\n",
       " 888,\n",
       " 890,\n",
       " 892,\n",
       " 894,\n",
       " 896,\n",
       " 898,\n",
       " 900,\n",
       " 902,\n",
       " 904,\n",
       " 906,\n",
       " 908,\n",
       " 910,\n",
       " 912,\n",
       " 914,\n",
       " 916,\n",
       " 918,\n",
       " 920,\n",
       " 922,\n",
       " 924,\n",
       " 926,\n",
       " 928,\n",
       " 930,\n",
       " 932,\n",
       " 934,\n",
       " 936,\n",
       " 938,\n",
       " 940,\n",
       " 942,\n",
       " 944,\n",
       " 946,\n",
       " 948,\n",
       " 950,\n",
       " 952,\n",
       " 954,\n",
       " 956,\n",
       " 958,\n",
       " 960,\n",
       " 962,\n",
       " 964,\n",
       " 966,\n",
       " 968,\n",
       " 970,\n",
       " 972,\n",
       " 974,\n",
       " 976,\n",
       " 978,\n",
       " 980,\n",
       " 982,\n",
       " 984,\n",
       " 986,\n",
       " 988,\n",
       " 990,\n",
       " 992,\n",
       " 994,\n",
       " 996,\n",
       " 998]"
      ]
     },
     "metadata": {
      "tags": []
     },
     "execution_count": 72
    }
   ]
  },
  {
   "cell_type": "markdown",
   "metadata": {
    "id": "nYDALPDTZ-s1",
    "colab_type": "text"
   },
   "source": [
    "<br>\n",
    "Now the same thing but with list comprehension."
   ]
  },
  {
   "cell_type": "code",
   "metadata": {
    "id": "lyz3InAmZ-s1",
    "colab_type": "code",
    "colab": {
     "base_uri": "https://localhost:8080/"
    },
    "executionInfo": {
     "status": "ok",
     "timestamp": 1600704650102,
     "user_tz": 300,
     "elapsed": 1467,
     "user": {
      "displayName": "JUAN ALEJANDRO GALVIS PACHECO",
      "photoUrl": "https://lh3.googleusercontent.com/a-/AOh14GjkiimzM3aQStztgJqp2zVYmPR9k6BlOYBAZvY70Q=s64",
      "userId": "15927991636568957671"
     }
    },
    "outputId": "5c01dc1e-f5e6-45ec-d76f-dc88639f535c"
   },
   "source": [
    "my_list = [number for number in range(0,1000) if number % 2 == 0]\n",
    "my_list"
   ],
   "execution_count": null,
   "outputs": [
    {
     "output_type": "execute_result",
     "data": {
      "text/plain": [
       "[0,\n",
       " 2,\n",
       " 4,\n",
       " 6,\n",
       " 8,\n",
       " 10,\n",
       " 12,\n",
       " 14,\n",
       " 16,\n",
       " 18,\n",
       " 20,\n",
       " 22,\n",
       " 24,\n",
       " 26,\n",
       " 28,\n",
       " 30,\n",
       " 32,\n",
       " 34,\n",
       " 36,\n",
       " 38,\n",
       " 40,\n",
       " 42,\n",
       " 44,\n",
       " 46,\n",
       " 48,\n",
       " 50,\n",
       " 52,\n",
       " 54,\n",
       " 56,\n",
       " 58,\n",
       " 60,\n",
       " 62,\n",
       " 64,\n",
       " 66,\n",
       " 68,\n",
       " 70,\n",
       " 72,\n",
       " 74,\n",
       " 76,\n",
       " 78,\n",
       " 80,\n",
       " 82,\n",
       " 84,\n",
       " 86,\n",
       " 88,\n",
       " 90,\n",
       " 92,\n",
       " 94,\n",
       " 96,\n",
       " 98,\n",
       " 100,\n",
       " 102,\n",
       " 104,\n",
       " 106,\n",
       " 108,\n",
       " 110,\n",
       " 112,\n",
       " 114,\n",
       " 116,\n",
       " 118,\n",
       " 120,\n",
       " 122,\n",
       " 124,\n",
       " 126,\n",
       " 128,\n",
       " 130,\n",
       " 132,\n",
       " 134,\n",
       " 136,\n",
       " 138,\n",
       " 140,\n",
       " 142,\n",
       " 144,\n",
       " 146,\n",
       " 148,\n",
       " 150,\n",
       " 152,\n",
       " 154,\n",
       " 156,\n",
       " 158,\n",
       " 160,\n",
       " 162,\n",
       " 164,\n",
       " 166,\n",
       " 168,\n",
       " 170,\n",
       " 172,\n",
       " 174,\n",
       " 176,\n",
       " 178,\n",
       " 180,\n",
       " 182,\n",
       " 184,\n",
       " 186,\n",
       " 188,\n",
       " 190,\n",
       " 192,\n",
       " 194,\n",
       " 196,\n",
       " 198,\n",
       " 200,\n",
       " 202,\n",
       " 204,\n",
       " 206,\n",
       " 208,\n",
       " 210,\n",
       " 212,\n",
       " 214,\n",
       " 216,\n",
       " 218,\n",
       " 220,\n",
       " 222,\n",
       " 224,\n",
       " 226,\n",
       " 228,\n",
       " 230,\n",
       " 232,\n",
       " 234,\n",
       " 236,\n",
       " 238,\n",
       " 240,\n",
       " 242,\n",
       " 244,\n",
       " 246,\n",
       " 248,\n",
       " 250,\n",
       " 252,\n",
       " 254,\n",
       " 256,\n",
       " 258,\n",
       " 260,\n",
       " 262,\n",
       " 264,\n",
       " 266,\n",
       " 268,\n",
       " 270,\n",
       " 272,\n",
       " 274,\n",
       " 276,\n",
       " 278,\n",
       " 280,\n",
       " 282,\n",
       " 284,\n",
       " 286,\n",
       " 288,\n",
       " 290,\n",
       " 292,\n",
       " 294,\n",
       " 296,\n",
       " 298,\n",
       " 300,\n",
       " 302,\n",
       " 304,\n",
       " 306,\n",
       " 308,\n",
       " 310,\n",
       " 312,\n",
       " 314,\n",
       " 316,\n",
       " 318,\n",
       " 320,\n",
       " 322,\n",
       " 324,\n",
       " 326,\n",
       " 328,\n",
       " 330,\n",
       " 332,\n",
       " 334,\n",
       " 336,\n",
       " 338,\n",
       " 340,\n",
       " 342,\n",
       " 344,\n",
       " 346,\n",
       " 348,\n",
       " 350,\n",
       " 352,\n",
       " 354,\n",
       " 356,\n",
       " 358,\n",
       " 360,\n",
       " 362,\n",
       " 364,\n",
       " 366,\n",
       " 368,\n",
       " 370,\n",
       " 372,\n",
       " 374,\n",
       " 376,\n",
       " 378,\n",
       " 380,\n",
       " 382,\n",
       " 384,\n",
       " 386,\n",
       " 388,\n",
       " 390,\n",
       " 392,\n",
       " 394,\n",
       " 396,\n",
       " 398,\n",
       " 400,\n",
       " 402,\n",
       " 404,\n",
       " 406,\n",
       " 408,\n",
       " 410,\n",
       " 412,\n",
       " 414,\n",
       " 416,\n",
       " 418,\n",
       " 420,\n",
       " 422,\n",
       " 424,\n",
       " 426,\n",
       " 428,\n",
       " 430,\n",
       " 432,\n",
       " 434,\n",
       " 436,\n",
       " 438,\n",
       " 440,\n",
       " 442,\n",
       " 444,\n",
       " 446,\n",
       " 448,\n",
       " 450,\n",
       " 452,\n",
       " 454,\n",
       " 456,\n",
       " 458,\n",
       " 460,\n",
       " 462,\n",
       " 464,\n",
       " 466,\n",
       " 468,\n",
       " 470,\n",
       " 472,\n",
       " 474,\n",
       " 476,\n",
       " 478,\n",
       " 480,\n",
       " 482,\n",
       " 484,\n",
       " 486,\n",
       " 488,\n",
       " 490,\n",
       " 492,\n",
       " 494,\n",
       " 496,\n",
       " 498,\n",
       " 500,\n",
       " 502,\n",
       " 504,\n",
       " 506,\n",
       " 508,\n",
       " 510,\n",
       " 512,\n",
       " 514,\n",
       " 516,\n",
       " 518,\n",
       " 520,\n",
       " 522,\n",
       " 524,\n",
       " 526,\n",
       " 528,\n",
       " 530,\n",
       " 532,\n",
       " 534,\n",
       " 536,\n",
       " 538,\n",
       " 540,\n",
       " 542,\n",
       " 544,\n",
       " 546,\n",
       " 548,\n",
       " 550,\n",
       " 552,\n",
       " 554,\n",
       " 556,\n",
       " 558,\n",
       " 560,\n",
       " 562,\n",
       " 564,\n",
       " 566,\n",
       " 568,\n",
       " 570,\n",
       " 572,\n",
       " 574,\n",
       " 576,\n",
       " 578,\n",
       " 580,\n",
       " 582,\n",
       " 584,\n",
       " 586,\n",
       " 588,\n",
       " 590,\n",
       " 592,\n",
       " 594,\n",
       " 596,\n",
       " 598,\n",
       " 600,\n",
       " 602,\n",
       " 604,\n",
       " 606,\n",
       " 608,\n",
       " 610,\n",
       " 612,\n",
       " 614,\n",
       " 616,\n",
       " 618,\n",
       " 620,\n",
       " 622,\n",
       " 624,\n",
       " 626,\n",
       " 628,\n",
       " 630,\n",
       " 632,\n",
       " 634,\n",
       " 636,\n",
       " 638,\n",
       " 640,\n",
       " 642,\n",
       " 644,\n",
       " 646,\n",
       " 648,\n",
       " 650,\n",
       " 652,\n",
       " 654,\n",
       " 656,\n",
       " 658,\n",
       " 660,\n",
       " 662,\n",
       " 664,\n",
       " 666,\n",
       " 668,\n",
       " 670,\n",
       " 672,\n",
       " 674,\n",
       " 676,\n",
       " 678,\n",
       " 680,\n",
       " 682,\n",
       " 684,\n",
       " 686,\n",
       " 688,\n",
       " 690,\n",
       " 692,\n",
       " 694,\n",
       " 696,\n",
       " 698,\n",
       " 700,\n",
       " 702,\n",
       " 704,\n",
       " 706,\n",
       " 708,\n",
       " 710,\n",
       " 712,\n",
       " 714,\n",
       " 716,\n",
       " 718,\n",
       " 720,\n",
       " 722,\n",
       " 724,\n",
       " 726,\n",
       " 728,\n",
       " 730,\n",
       " 732,\n",
       " 734,\n",
       " 736,\n",
       " 738,\n",
       " 740,\n",
       " 742,\n",
       " 744,\n",
       " 746,\n",
       " 748,\n",
       " 750,\n",
       " 752,\n",
       " 754,\n",
       " 756,\n",
       " 758,\n",
       " 760,\n",
       " 762,\n",
       " 764,\n",
       " 766,\n",
       " 768,\n",
       " 770,\n",
       " 772,\n",
       " 774,\n",
       " 776,\n",
       " 778,\n",
       " 780,\n",
       " 782,\n",
       " 784,\n",
       " 786,\n",
       " 788,\n",
       " 790,\n",
       " 792,\n",
       " 794,\n",
       " 796,\n",
       " 798,\n",
       " 800,\n",
       " 802,\n",
       " 804,\n",
       " 806,\n",
       " 808,\n",
       " 810,\n",
       " 812,\n",
       " 814,\n",
       " 816,\n",
       " 818,\n",
       " 820,\n",
       " 822,\n",
       " 824,\n",
       " 826,\n",
       " 828,\n",
       " 830,\n",
       " 832,\n",
       " 834,\n",
       " 836,\n",
       " 838,\n",
       " 840,\n",
       " 842,\n",
       " 844,\n",
       " 846,\n",
       " 848,\n",
       " 850,\n",
       " 852,\n",
       " 854,\n",
       " 856,\n",
       " 858,\n",
       " 860,\n",
       " 862,\n",
       " 864,\n",
       " 866,\n",
       " 868,\n",
       " 870,\n",
       " 872,\n",
       " 874,\n",
       " 876,\n",
       " 878,\n",
       " 880,\n",
       " 882,\n",
       " 884,\n",
       " 886,\n",
       " 888,\n",
       " 890,\n",
       " 892,\n",
       " 894,\n",
       " 896,\n",
       " 898,\n",
       " 900,\n",
       " 902,\n",
       " 904,\n",
       " 906,\n",
       " 908,\n",
       " 910,\n",
       " 912,\n",
       " 914,\n",
       " 916,\n",
       " 918,\n",
       " 920,\n",
       " 922,\n",
       " 924,\n",
       " 926,\n",
       " 928,\n",
       " 930,\n",
       " 932,\n",
       " 934,\n",
       " 936,\n",
       " 938,\n",
       " 940,\n",
       " 942,\n",
       " 944,\n",
       " 946,\n",
       " 948,\n",
       " 950,\n",
       " 952,\n",
       " 954,\n",
       " 956,\n",
       " 958,\n",
       " 960,\n",
       " 962,\n",
       " 964,\n",
       " 966,\n",
       " 968,\n",
       " 970,\n",
       " 972,\n",
       " 974,\n",
       " 976,\n",
       " 978,\n",
       " 980,\n",
       " 982,\n",
       " 984,\n",
       " 986,\n",
       " 988,\n",
       " 990,\n",
       " 992,\n",
       " 994,\n",
       " 996,\n",
       " 998]"
      ]
     },
     "metadata": {
      "tags": []
     },
     "execution_count": 73
    }
   ]
  }
 ]
}