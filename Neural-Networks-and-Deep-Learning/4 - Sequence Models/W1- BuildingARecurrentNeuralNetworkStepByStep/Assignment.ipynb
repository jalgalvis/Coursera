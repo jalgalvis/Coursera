{
 "cells": [
  {
   "cell_type": "code",
   "execution_count": 1,
   "metadata": {
    "collapsed": true
   },
   "outputs": [],
   "source": [
    "import numpy as np\n",
    "from rnn_utils import *\n",
    "from funcs import *"
   ]
  },
  {
   "cell_type": "code",
   "execution_count": 2,
   "outputs": [],
   "source": [
    "np.random.seed(1)\n",
    "xt = np.random.randn(3,10)\n",
    "a_prev = np.random.randn(5,10)\n",
    "parameters = {}\n",
    "parameters['Waa'] = np.random.randn(5,5)\n",
    "parameters['Wax'] = np.random.randn(5,3)\n",
    "parameters['Wya'] = np.random.randn(2,5)\n",
    "parameters['ba'] = np.random.randn(5,1)\n",
    "parameters['by'] = np.random.randn(2,1)\n"
   ],
   "metadata": {
    "collapsed": false,
    "pycharm": {
     "name": "#%%\n"
    }
   }
  },
  {
   "cell_type": "code",
   "execution_count": 3,
   "outputs": [],
   "source": [
    "\n",
    "# Retrieve parameters from \"parameters\"\n",
    "Wax = parameters[\"Wax\"]\n",
    "Waa = parameters[\"Waa\"]\n",
    "Wya = parameters[\"Wya\"]\n",
    "ba = parameters[\"ba\"]\n",
    "by = parameters[\"by\"]\n",
    "\n",
    "### START CODE HERE ### (≈2 lines)\n",
    "# compute next activation state using the formula given above\n",
    "a_next = np.tanh(Waa @ a_prev + Wax @ xt + ba)\n",
    "# compute output of the current cell using the formula given above\n",
    "yt_pred = softmax(Wya @ a_next + by)\n",
    "### END CODE HERE ###\n",
    "\n",
    "# store values you need for backward propagation in cache\n",
    "cache = (a_next, a_prev, xt, parameters)\n"
   ],
   "metadata": {
    "collapsed": false,
    "pycharm": {
     "name": "#%%\n"
    }
   }
  },
  {
   "cell_type": "code",
   "execution_count": 4,
   "outputs": [
    {
     "name": "stdout",
     "output_type": "stream",
     "text": [
      "a_next[4] = \n",
      " [ 0.59584544  0.18141802  0.61311866  0.99808218  0.85016201  0.99980978\n",
      " -0.18887155  0.99815551  0.6531151   0.82872037]\n",
      "a_next.shape = \n",
      " (5, 10)\n",
      "yt_pred[1] =\n",
      " [0.9888161  0.01682021 0.21140899 0.36817467 0.98988387 0.88945212\n",
      " 0.36920224 0.9966312  0.9982559  0.17746526]\n",
      "yt_pred.shape = \n",
      " (2, 10)\n"
     ]
    }
   ],
   "source": [
    "print(\"a_next[4] = \\n\", a_next[4])\n",
    "print(\"a_next.shape = \\n\", a_next.shape)\n",
    "print(\"yt_pred[1] =\\n\", yt_pred[1])\n",
    "print(\"yt_pred.shape = \\n\", yt_pred.shape)\n"
   ],
   "metadata": {
    "collapsed": false,
    "pycharm": {
     "name": "#%%\n"
    }
   }
  },
  {
   "cell_type": "code",
   "execution_count": 5,
   "outputs": [],
   "source": [
    "np.random.seed(1)\n",
    "x = np.random.randn(3,10,4)\n",
    "a0 = np.random.randn(5,10)\n",
    "parameters = {}\n",
    "parameters['Waa'] = np.random.randn(5,5)\n",
    "parameters['Wax'] = np.random.randn(5,3)\n",
    "parameters['Wya'] = np.random.randn(2,5)\n",
    "parameters['ba'] = np.random.randn(5,1)\n",
    "parameters['by'] = np.random.randn(2,1)\n",
    "\n"
   ],
   "metadata": {
    "collapsed": false,
    "pycharm": {
     "name": "#%%\n"
    }
   }
  },
  {
   "cell_type": "code",
   "execution_count": 6,
   "outputs": [],
   "source": [
    "\n",
    "\n",
    "# Initialize \"caches\" which will contain the list of all caches\n",
    "caches = []\n",
    "\n",
    "# Retrieve dimensions from shapes of x and parameters[\"Wya\"]\n",
    "n_x, m, T_x = x.shape\n",
    "n_y, n_a = parameters[\"Wya\"].shape\n",
    "\n",
    "### START CODE HERE ###\n",
    "\n",
    "# initialize \"a\" and \"y_pred\" with zeros (≈2 lines)\n",
    "a = np.zeros((n_a, m, T_x))\n",
    "y_pred = np.zeros((n_y, m, T_x))\n",
    "\n",
    "# Initialize a_next (≈1 line)\n",
    "a_next = a0\n",
    "\n",
    "# loop over all time-steps of the input 'x' (1 line)\n",
    "for t in range(T_x):\n",
    "    # Update next hidden state, compute the prediction, get the cache (≈2 lines)\n",
    "    xt = x[:,:,t]\n",
    "    a_next, yt_pred, cache = rnn_cell_forward(xt, a_next, parameters)\n",
    "    # Save the value of the new \"next\" hidden state in a (≈1 line)\n",
    "    a[:,:,t] = a_next\n",
    "    # Save the value of the prediction in y (≈1 line)\n",
    "    y_pred[:,:,t] = yt_pred\n",
    "    # Append \"cache\" to \"caches\" (≈1 line)\n",
    "    caches.append(cache)\n",
    "\n",
    "### END CODE HERE ###\n",
    "\n",
    "# store values needed for backward propagation in cache\n",
    "caches = (caches, x)\n"
   ],
   "metadata": {
    "collapsed": false,
    "pycharm": {
     "name": "#%%\n"
    }
   }
  },
  {
   "cell_type": "code",
   "execution_count": 7,
   "outputs": [
    {
     "name": "stdout",
     "output_type": "stream",
     "text": [
      "a[4][1] = \n",
      " [-0.99999375  0.77911235 -0.99861469 -0.99833267]\n",
      "a.shape = \n",
      " (5, 10, 4)\n",
      "y_pred[1][3] =\n",
      " [0.79560373 0.86224861 0.11118257 0.81515947]\n",
      "y_pred.shape = \n",
      " (2, 10, 4)\n",
      "caches[1][1][3] =\n",
      " [-1.1425182  -0.34934272 -0.20889423  0.58662319]\n",
      "len(caches) = \n",
      " 2\n"
     ]
    }
   ],
   "source": [
    "\n",
    "\n",
    "print(\"a[4][1] = \\n\", a[4][1])\n",
    "print(\"a.shape = \\n\", a.shape)\n",
    "print(\"y_pred[1][3] =\\n\", y_pred[1][3])\n",
    "print(\"y_pred.shape = \\n\", y_pred.shape)\n",
    "print(\"caches[1][1][3] =\\n\", caches[1][1][3])\n",
    "print(\"len(caches) = \\n\", len(caches))"
   ],
   "metadata": {
    "collapsed": false,
    "pycharm": {
     "name": "#%%\n"
    }
   }
  },
  {
   "cell_type": "code",
   "execution_count": 8,
   "outputs": [],
   "source": [
    "np.random.seed(1)\n",
    "xt = np.random.randn(3,10)\n",
    "a_prev = np.random.randn(5,10)\n",
    "c_prev = np.random.randn(5,10)\n",
    "parameters = {}\n",
    "parameters['Wf'] = np.random.randn(5, 5+3)\n",
    "parameters['bf'] = np.random.randn(5,1)\n",
    "parameters['Wi'] = np.random.randn(5, 5+3)\n",
    "parameters['bi'] = np.random.randn(5,1)\n",
    "parameters['Wo'] = np.random.randn(5, 5+3)\n",
    "parameters['bo'] = np.random.randn(5,1)\n",
    "parameters['Wc'] = np.random.randn(5, 5+3)\n",
    "parameters['bc'] = np.random.randn(5,1)\n",
    "parameters['Wy'] = np.random.randn(2,5)\n",
    "parameters['by'] = np.random.randn(2,1)\n"
   ],
   "metadata": {
    "collapsed": false,
    "pycharm": {
     "name": "#%%\n"
    }
   }
  },
  {
   "cell_type": "code",
   "execution_count": 9,
   "outputs": [],
   "source": [
    "\n",
    "# Retrieve parameters from \"parameters\"\n",
    "Wf = parameters[\"Wf\"] # forget gate weight\n",
    "bf = parameters[\"bf\"]\n",
    "Wi = parameters[\"Wi\"] # update gate weight (notice the variable name)\n",
    "bi = parameters[\"bi\"] # (notice the variable name)\n",
    "Wc = parameters[\"Wc\"] # candidate value weight\n",
    "bc = parameters[\"bc\"]\n",
    "Wo = parameters[\"Wo\"] # output gate weight\n",
    "bo = parameters[\"bo\"]\n",
    "Wy = parameters[\"Wy\"] # prediction weight\n",
    "by = parameters[\"by\"]\n",
    "\n",
    "# Retrieve dimensions from shapes of xt and Wy\n",
    "n_x, m = xt.shape\n",
    "n_y, n_a = Wy.shape\n",
    "\n",
    "### START CODE HERE ###\n",
    "# Concatenate a_prev and xt (≈1 line)\n",
    "concat = np.vstack((a_prev, xt))\n",
    "\n",
    "# Compute values for ft (forget gate), it (update gate),\n",
    "# cct (candidate value), c_next (cell state),\n",
    "# ot (output gate), a_next (hidden state) (≈6 lines)\n",
    "ft = sigmoid(Wf @ concat + bf)        # forget gate\n",
    "it = sigmoid(Wi @ concat + bi)        # update gate\n",
    "cct = np.tanh(Wc @ concat + bc)       # candidate value\n",
    "c_next = ft * c_prev + it * cct    # cell state\n",
    "ot = sigmoid(Wo @ concat + bo)        # output gate\n",
    "a_next = ot * np.tanh(c_next)    # hidden state\n",
    "\n",
    "# Compute prediction of the LSTM cell (≈1 line)\n",
    "yt_pred = softmax(Wy @ a_next + by)\n",
    "### END CODE HERE ###\n",
    "\n",
    "# store values needed for backward propagation in cache\n",
    "cache = (a_next, c_next, a_prev, c_prev, ft, it, cct, ot, xt, parameters)"
   ],
   "metadata": {
    "collapsed": false,
    "pycharm": {
     "name": "#%%\n"
    }
   }
  },
  {
   "cell_type": "code",
   "execution_count": 10,
   "outputs": [
    {
     "name": "stdout",
     "output_type": "stream",
     "text": [
      "a_next[4] = \n",
      " [-0.66408471  0.0036921   0.02088357  0.22834167 -0.85575339  0.00138482\n",
      "  0.76566531  0.34631421 -0.00215674  0.43827275]\n",
      "a_next.shape =  (5, 10)\n",
      "c_next[2] = \n",
      " [ 0.63267805  1.00570849  0.35504474  0.20690913 -1.64566718  0.11832942\n",
      "  0.76449811 -0.0981561  -0.74348425 -0.26810932]\n",
      "c_next.shape =  (5, 10)\n",
      "yt[1] = [0.79913913 0.15986619 0.22412122 0.15606108 0.97057211 0.31146381\n",
      " 0.00943007 0.12666353 0.39380172 0.07828381]\n",
      "yt.shape =  (2, 10)\n",
      "cache[1][3] =\n",
      " [-0.16263996  1.03729328  0.72938082 -0.54101719  0.02752074 -0.30821874\n",
      "  0.07651101 -1.03752894  1.41219977 -0.37647422]\n",
      "len(cache) =  10\n"
     ]
    }
   ],
   "source": [
    "print(\"a_next[4] = \\n\", a_next[4])\n",
    "print(\"a_next.shape = \", a_next.shape)\n",
    "print(\"c_next[2] = \\n\", c_next[2])\n",
    "print(\"c_next.shape = \", c_next.shape)\n",
    "print(\"yt[1] =\", yt_pred[1])\n",
    "print(\"yt.shape = \", yt_pred.shape)\n",
    "print(\"cache[1][3] =\\n\", cache[1][3])\n",
    "print(\"len(cache) = \", len(cache))"
   ],
   "metadata": {
    "collapsed": false,
    "pycharm": {
     "name": "#%%\n"
    }
   }
  },
  {
   "cell_type": "code",
   "execution_count": 11,
   "outputs": [],
   "source": [
    "np.random.seed(1)\n",
    "x = np.random.randn(3,10,7)\n",
    "a0 = np.random.randn(5,10)\n",
    "parameters = {}\n",
    "parameters['Wf'] = np.random.randn(5, 5+3)\n",
    "parameters['bf'] = np.random.randn(5,1)\n",
    "parameters['Wi'] = np.random.randn(5, 5+3)\n",
    "parameters['bi']= np.random.randn(5,1)\n",
    "parameters['Wo'] = np.random.randn(5, 5+3)\n",
    "parameters['bo'] = np.random.randn(5,1)\n",
    "parameters['Wc'] = np.random.randn(5, 5+3)\n",
    "parameters['bc'] = np.random.randn(5,1)\n",
    "parameters['Wy'] = np.random.randn(2,5)\n",
    "parameters['by'] = np.random.randn(2,1)"
   ],
   "metadata": {
    "collapsed": false,
    "pycharm": {
     "name": "#%%\n"
    }
   }
  },
  {
   "cell_type": "code",
   "execution_count": 12,
   "outputs": [],
   "source": [
    "# Initialize \"caches\", which will track the list of all the caches\n",
    "caches = []\n",
    "\n",
    "### START CODE HERE ###\n",
    "Wy = parameters['Wy'] # saving parameters['Wy'] in a local variable in case students use Wy instead of parameters['Wy']\n",
    "# Retrieve dimensions from shapes of x and parameters['Wy'] (≈2 lines)\n",
    "n_x, m, T_x = x.shape\n",
    "n_y, n_a = parameters['Wy'].shape\n",
    "\n",
    "# initialize \"a\", \"c\" and \"y\" with zeros (≈3 lines)\n",
    "a = np.zeros((n_a, m, T_x))\n",
    "c = np.zeros((n_a, m, T_x))\n",
    "y = np.zeros((n_y, m, T_x))\n",
    "\n",
    "# Initialize a_next and c_next (≈2 lines)\n",
    "a_next = a0\n",
    "c_next = np.zeros((n_a, m))\n",
    "\n",
    "# loop over all time-steps\n",
    "for t in range(T_x):\n",
    "    # Get the 2D slice 'xt' from the 3D input 'x' at time step 't'\n",
    "    xt = x[:,:,t]\n",
    "    # Update next hidden state, next memory state, compute the prediction, get the cache (≈1 line)\n",
    "    a_next, c_next, yt, cache = lstm_cell_forward(xt, a_next, c_next, parameters)\n",
    "    # Save the value of the new \"next\" hidden state in a (≈1 line)\n",
    "    a[:,:,t] = a_next\n",
    "    # Save the value of the next cell state (≈1 line)\n",
    "    c[:,:,t]  = c_next\n",
    "    # Save the value of the prediction in y (≈1 line)\n",
    "    y[:,:,t] = yt\n",
    "    # Append the cache into caches (≈1 line)\n",
    "    caches.append(cache)\n",
    "\n",
    "### END CODE HERE ###\n",
    "\n",
    "# store values needed for backward propagation in cache\n",
    "caches = (caches, x)\n"
   ],
   "metadata": {
    "collapsed": false,
    "pycharm": {
     "name": "#%%\n"
    }
   }
  },
  {
   "cell_type": "code",
   "execution_count": 13,
   "outputs": [
    {
     "name": "stdout",
     "output_type": "stream",
     "text": [
      "a[4][3][6] =  0.17211776753291672\n",
      "a.shape =  (5, 10, 7)\n",
      "y[1][4][3] = 0.9508734618501101\n",
      "y.shape =  (2, 10, 7)\n",
      "caches[1][1][1] =\n",
      " [ 0.82797464  0.23009474  0.76201118 -0.22232814 -0.20075807  0.18656139\n",
      "  0.41005165]\n",
      "c[1][2][1] -0.8555449167181982\n",
      "len(caches) =  2\n"
     ]
    }
   ],
   "source": [
    "print(\"a[4][3][6] = \", a[4][3][6])\n",
    "print(\"a.shape = \", a.shape)\n",
    "print(\"y[1][4][3] =\", y[1][4][3])\n",
    "print(\"y.shape = \", y.shape)\n",
    "print(\"caches[1][1][1] =\\n\", caches[1][1][1])\n",
    "print(\"c[1][2][1]\", c[1][2][1])\n",
    "print(\"len(caches) = \", len(caches))"
   ],
   "metadata": {
    "collapsed": false,
    "pycharm": {
     "name": "#%%\n"
    }
   }
  },
  {
   "cell_type": "code",
   "execution_count": 13,
   "outputs": [],
   "source": [],
   "metadata": {
    "collapsed": false,
    "pycharm": {
     "name": "#%%\n"
    }
   }
  }
 ],
 "metadata": {
  "kernelspec": {
   "display_name": "Python 3",
   "language": "python",
   "name": "python3"
  },
  "language_info": {
   "codemirror_mode": {
    "name": "ipython",
    "version": 2
   },
   "file_extension": ".py",
   "mimetype": "text/x-python",
   "name": "python",
   "nbconvert_exporter": "python",
   "pygments_lexer": "ipython2",
   "version": "2.7.6"
  }
 },
 "nbformat": 4,
 "nbformat_minor": 0
}